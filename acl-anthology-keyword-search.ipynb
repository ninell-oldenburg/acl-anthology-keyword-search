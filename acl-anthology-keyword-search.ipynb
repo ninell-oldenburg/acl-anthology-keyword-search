{
 "cells": [
  {
   "cell_type": "markdown",
   "id": "1760bcb8",
   "metadata": {},
   "source": [
    "# importing acl-anthology bib file & creating csv"
   ]
  },
  {
   "cell_type": "code",
   "execution_count": 1,
   "id": "8b51b215",
   "metadata": {},
   "outputs": [
    {
     "name": "stderr",
     "output_type": "stream",
     "text": [
      "[nltk_data] Downloading package stopwords to /Users/nell/nltk_data...\n",
      "[nltk_data]   Package stopwords is already up-to-date!\n"
     ]
    },
    {
     "data": {
      "text/plain": [
       "True"
      ]
     },
     "execution_count": 1,
     "metadata": {},
     "output_type": "execute_result"
    }
   ],
   "source": [
    "import requests\n",
    "import gzip\n",
    "import shutil\n",
    "import os\n",
    "import nltk\n",
    "from nltk.stem import WordNetLemmatizer\n",
    "import seaborn as sns\n",
    "import pylab\n",
    "import colorcet as cc\n",
    "import pprint\n",
    "\n",
    "nltk.download('stopwords')"
   ]
  },
  {
   "cell_type": "code",
   "execution_count": null,
   "id": "455f251c",
   "metadata": {},
   "outputs": [],
   "source": [
    "# download anthology file\n",
    "url = \"https://aclanthology.org/anthology+abstracts.bib.gz\"\n",
    "r = requests.get(url)\n",
    "open('anthology+abstracts.bib.gz', 'wb').write(r.content)\n",
    "\n",
    "# open and unpack gz\n",
    "with gzip.open('anthology+abstracts.bib.gz', 'rb') as f_in:\n",
    "    with open('anthology+abstracts.bib', 'wb') as f_out:\n",
    "        shutil.copyfileobj(f_in, f_out)\n",
    "        \n",
    "os.remove(\"anthology+abstracts.bib.gz\")"
   ]
  },
  {
   "cell_type": "code",
   "execution_count": null,
   "id": "c0790d1d",
   "metadata": {},
   "outputs": [],
   "source": [
    "# watch out: computes very long\n",
    "# if you've run this + the following cell once, there should e a csv in your directory\n",
    "# in that case you can uncomment the cell after the next one and read straight from the csv\n",
    "import bibtexparser\n",
    "\n",
    "# parse bib file, output: list of dicts\n",
    "with open('anthology+abstracts.bib') as bibtex_file:   \n",
    "    bib_database = bibtexparser.bparser.BibTexParser(common_strings=True).parse_file(bibtex_file)\n"
   ]
  },
  {
   "cell_type": "code",
   "execution_count": null,
   "id": "18fa4c7c",
   "metadata": {},
   "outputs": [],
   "source": [
    "import pandas as pd\n",
    "import sre_yield\n",
    "\n",
    "df = pd.DataFrame()\n",
    "\n",
    "keywords = ['bias', 'fairness', 'protected category', 'stereotype', 'social group signal']\n",
    "\n",
    "for paper in bib_database.entries:\n",
    "    if 'abstract' in paper.keys():\n",
    "        if any(keyword in paper['abstract'] for keyword in keywords):\n",
    "            temp_row = {}\n",
    "\n",
    "            # select only select papers from 2016 on\n",
    "            if 'year' in paper.keys() and int(paper['year']) >= 2016:\n",
    "\n",
    "                for cat in paper.keys():\n",
    "                    temp_row[cat] = paper[cat]\n",
    "\n",
    "                df = pd.concat([df, pd.DataFrame([temp_row])], ignore_index=True)\n",
    "        \n",
    "df.to_csv('bias_paper.csv')"
   ]
  },
  {
   "cell_type": "code",
   "execution_count": null,
   "id": "a348b2c3",
   "metadata": {},
   "outputs": [],
   "source": [
    "print(len(df))"
   ]
  },
  {
   "cell_type": "markdown",
   "id": "a4afe2e5",
   "metadata": {},
   "source": [
    "# Import existing csv\n",
    "Leave this out if you ran the parts above"
   ]
  },
  {
   "cell_type": "code",
   "execution_count": 2,
   "id": "bfe988cd",
   "metadata": {},
   "outputs": [],
   "source": [
    "# uncomment if csv is already in directory (and save time parsing the bib file)\n",
    "import pandas as pd\n",
    "#df = pd.read_csv('co_bias_paper.csv')\n",
    "#df = pd.read_csv('ws_bias_paper.csv')\n",
    "df = pd.read_csv('bias_paper_319_man.csv')\n",
    "#print(len(df))"
   ]
  },
  {
   "cell_type": "code",
   "execution_count": 3,
   "id": "7ede2506",
   "metadata": {},
   "outputs": [
    {
     "data": {
      "text/html": [
       "<div>\n",
       "<style scoped>\n",
       "    .dataframe tbody tr th:only-of-type {\n",
       "        vertical-align: middle;\n",
       "    }\n",
       "\n",
       "    .dataframe tbody tr th {\n",
       "        vertical-align: top;\n",
       "    }\n",
       "\n",
       "    .dataframe thead th {\n",
       "        text-align: right;\n",
       "    }\n",
       "</style>\n",
       "<table border=\"1\" class=\"dataframe\">\n",
       "  <thead>\n",
       "    <tr style=\"text-align: right;\">\n",
       "      <th></th>\n",
       "      <th>abstract</th>\n",
       "      <th>pages</th>\n",
       "      <th>doi</th>\n",
       "      <th>url</th>\n",
       "      <th>publisher</th>\n",
       "      <th>address</th>\n",
       "      <th>year</th>\n",
       "      <th>month</th>\n",
       "      <th>booktitle</th>\n",
       "      <th>author</th>\n",
       "      <th>title</th>\n",
       "      <th>ENTRYTYPE</th>\n",
       "      <th>ID</th>\n",
       "      <th>volume</th>\n",
       "      <th>journal</th>\n",
       "      <th>number</th>\n",
       "      <th>language</th>\n",
       "      <th>isbn</th>\n",
       "      <th>manual</th>\n",
       "    </tr>\n",
       "  </thead>\n",
       "  <tbody>\n",
       "    <tr>\n",
       "      <th>0</th>\n",
       "      <td>Majority voting and averaging are common appro...</td>\n",
       "      <td>92--110</td>\n",
       "      <td>10.1162/tacl_a_00449</td>\n",
       "      <td>https://aclanthology.org/2022.tacl-1.6</td>\n",
       "      <td>MIT Press</td>\n",
       "      <td>Cambridge, MA</td>\n",
       "      <td>2022</td>\n",
       "      <td>NaN</td>\n",
       "      <td>NaN</td>\n",
       "      <td>Davani, Aida Mostafazadeh  and\\nD{\\'\\i}az, Mar...</td>\n",
       "      <td>Dealing with Disagreements: Looking Beyond the...</td>\n",
       "      <td>article</td>\n",
       "      <td>davani-etal-2022-dealing</td>\n",
       "      <td>10.0</td>\n",
       "      <td>Transactions of the Association for Computatio...</td>\n",
       "      <td>NaN</td>\n",
       "      <td>NaN</td>\n",
       "      <td>NaN</td>\n",
       "      <td>NaN</td>\n",
       "    </tr>\n",
       "    <tr>\n",
       "      <th>1</th>\n",
       "      <td>Stereotypes are a positive or negative, genera...</td>\n",
       "      <td>58--65</td>\n",
       "      <td>10.18653/v1/2022.slpat-1.8</td>\n",
       "      <td>https://aclanthology.org/2022.slpat-1.8</td>\n",
       "      <td>Association for Computational Linguistics</td>\n",
       "      <td>Dublin, Ireland</td>\n",
       "      <td>2022</td>\n",
       "      <td>May</td>\n",
       "      <td>Ninth Workshop on Speech and Language Processi...</td>\n",
       "      <td>Herold, Brienna  and\\nWaller, James  and\\nKush...</td>\n",
       "      <td>Applying the Stereotype Content Model to asses...</td>\n",
       "      <td>inproceedings</td>\n",
       "      <td>herold-etal-2022-applying</td>\n",
       "      <td>NaN</td>\n",
       "      <td>NaN</td>\n",
       "      <td>NaN</td>\n",
       "      <td>NaN</td>\n",
       "      <td>NaN</td>\n",
       "      <td>NaN</td>\n",
       "    </tr>\n",
       "    <tr>\n",
       "      <th>2</th>\n",
       "      <td>Current language technology is ubiquitous and ...</td>\n",
       "      <td>26--34</td>\n",
       "      <td>10.18653/v1/2022.ltedi-1.4</td>\n",
       "      <td>https://aclanthology.org/2022.ltedi-1.4</td>\n",
       "      <td>Association for Computational Linguistics</td>\n",
       "      <td>Dublin, Ireland</td>\n",
       "      <td>2022</td>\n",
       "      <td>May</td>\n",
       "      <td>Proceedings of the Second Workshop on Language...</td>\n",
       "      <td>Nozza, Debora  and\\nBianchi, Federico  and\\nLa...</td>\n",
       "      <td>Measuring Harmful Sentence Completion in Langu...</td>\n",
       "      <td>inproceedings</td>\n",
       "      <td>nozza-etal-2022-measuring</td>\n",
       "      <td>NaN</td>\n",
       "      <td>NaN</td>\n",
       "      <td>NaN</td>\n",
       "      <td>NaN</td>\n",
       "      <td>NaN</td>\n",
       "      <td>NaN</td>\n",
       "    </tr>\n",
       "    <tr>\n",
       "      <th>3</th>\n",
       "      <td>Existing studies have investigated the tendenc...</td>\n",
       "      <td>41--46</td>\n",
       "      <td>10.18653/v1/2022.ltedi-1.6</td>\n",
       "      <td>https://aclanthology.org/2022.ltedi-1.6</td>\n",
       "      <td>Association for Computational Linguistics</td>\n",
       "      <td>Dublin, Ireland</td>\n",
       "      <td>2022</td>\n",
       "      <td>May</td>\n",
       "      <td>Proceedings of the Second Workshop on Language...</td>\n",
       "      <td>Park, Yoona  and\\nRudzicz, Frank</td>\n",
       "      <td>Detoxifying Language Models with a Toxic Corpus</td>\n",
       "      <td>inproceedings</td>\n",
       "      <td>park-rudzicz-2022-detoxifying</td>\n",
       "      <td>NaN</td>\n",
       "      <td>NaN</td>\n",
       "      <td>NaN</td>\n",
       "      <td>NaN</td>\n",
       "      <td>NaN</td>\n",
       "      <td>NaN</td>\n",
       "    </tr>\n",
       "    <tr>\n",
       "      <th>4</th>\n",
       "      <td>This paper presents a new method for automatic...</td>\n",
       "      <td>47--58</td>\n",
       "      <td>10.18653/v1/2022.ltedi-1.7</td>\n",
       "      <td>https://aclanthology.org/2022.ltedi-1.7</td>\n",
       "      <td>Association for Computational Linguistics</td>\n",
       "      <td>Dublin, Ireland</td>\n",
       "      <td>2022</td>\n",
       "      <td>May</td>\n",
       "      <td>Proceedings of the Second Workshop on Language...</td>\n",
       "      <td>Bartl, Marion  and\\nLeavy, Susan</td>\n",
       "      <td>Inferring Gender: A Scalable Methodology for G...</td>\n",
       "      <td>inproceedings</td>\n",
       "      <td>bartl-leavy-2022-inferring</td>\n",
       "      <td>NaN</td>\n",
       "      <td>NaN</td>\n",
       "      <td>NaN</td>\n",
       "      <td>NaN</td>\n",
       "      <td>NaN</td>\n",
       "      <td>NaN</td>\n",
       "    </tr>\n",
       "  </tbody>\n",
       "</table>\n",
       "</div>"
      ],
      "text/plain": [
       "                                            abstract    pages  \\\n",
       "0  Majority voting and averaging are common appro...  92--110   \n",
       "1  Stereotypes are a positive or negative, genera...   58--65   \n",
       "2  Current language technology is ubiquitous and ...   26--34   \n",
       "3  Existing studies have investigated the tendenc...   41--46   \n",
       "4  This paper presents a new method for automatic...   47--58   \n",
       "\n",
       "                          doi                                      url  \\\n",
       "0        10.1162/tacl_a_00449   https://aclanthology.org/2022.tacl-1.6   \n",
       "1  10.18653/v1/2022.slpat-1.8  https://aclanthology.org/2022.slpat-1.8   \n",
       "2  10.18653/v1/2022.ltedi-1.4  https://aclanthology.org/2022.ltedi-1.4   \n",
       "3  10.18653/v1/2022.ltedi-1.6  https://aclanthology.org/2022.ltedi-1.6   \n",
       "4  10.18653/v1/2022.ltedi-1.7  https://aclanthology.org/2022.ltedi-1.7   \n",
       "\n",
       "                                   publisher          address  year month  \\\n",
       "0                                  MIT Press    Cambridge, MA  2022   NaN   \n",
       "1  Association for Computational Linguistics  Dublin, Ireland  2022   May   \n",
       "2  Association for Computational Linguistics  Dublin, Ireland  2022   May   \n",
       "3  Association for Computational Linguistics  Dublin, Ireland  2022   May   \n",
       "4  Association for Computational Linguistics  Dublin, Ireland  2022   May   \n",
       "\n",
       "                                           booktitle  \\\n",
       "0                                                NaN   \n",
       "1  Ninth Workshop on Speech and Language Processi...   \n",
       "2  Proceedings of the Second Workshop on Language...   \n",
       "3  Proceedings of the Second Workshop on Language...   \n",
       "4  Proceedings of the Second Workshop on Language...   \n",
       "\n",
       "                                              author  \\\n",
       "0  Davani, Aida Mostafazadeh  and\\nD{\\'\\i}az, Mar...   \n",
       "1  Herold, Brienna  and\\nWaller, James  and\\nKush...   \n",
       "2  Nozza, Debora  and\\nBianchi, Federico  and\\nLa...   \n",
       "3                   Park, Yoona  and\\nRudzicz, Frank   \n",
       "4                   Bartl, Marion  and\\nLeavy, Susan   \n",
       "\n",
       "                                               title      ENTRYTYPE  \\\n",
       "0  Dealing with Disagreements: Looking Beyond the...        article   \n",
       "1  Applying the Stereotype Content Model to asses...  inproceedings   \n",
       "2  Measuring Harmful Sentence Completion in Langu...  inproceedings   \n",
       "3    Detoxifying Language Models with a Toxic Corpus  inproceedings   \n",
       "4  Inferring Gender: A Scalable Methodology for G...  inproceedings   \n",
       "\n",
       "                              ID  volume  \\\n",
       "0       davani-etal-2022-dealing    10.0   \n",
       "1      herold-etal-2022-applying     NaN   \n",
       "2      nozza-etal-2022-measuring     NaN   \n",
       "3  park-rudzicz-2022-detoxifying     NaN   \n",
       "4     bartl-leavy-2022-inferring     NaN   \n",
       "\n",
       "                                             journal  number language isbn  \\\n",
       "0  Transactions of the Association for Computatio...     NaN      NaN  NaN   \n",
       "1                                                NaN     NaN      NaN  NaN   \n",
       "2                                                NaN     NaN      NaN  NaN   \n",
       "3                                                NaN     NaN      NaN  NaN   \n",
       "4                                                NaN     NaN      NaN  NaN   \n",
       "\n",
       "  manual  \n",
       "0    NaN  \n",
       "1    NaN  \n",
       "2    NaN  \n",
       "3    NaN  \n",
       "4    NaN  "
      ]
     },
     "execution_count": 3,
     "metadata": {},
     "output_type": "execute_result"
    }
   ],
   "source": [
    "df.head()"
   ]
  },
  {
   "cell_type": "markdown",
   "id": "ec73c33c",
   "metadata": {},
   "source": [
    "# tf-idf & clustering"
   ]
  },
  {
   "cell_type": "code",
   "execution_count": 4,
   "id": "38b35e3f",
   "metadata": {},
   "outputs": [],
   "source": [
    "# inspiration from: https://medium.com/mlearning-ai/text-clustering-with-tf-idf-in-python-c94cd26a31e7"
   ]
  },
  {
   "cell_type": "code",
   "execution_count": 5,
   "id": "e34b2f65",
   "metadata": {},
   "outputs": [],
   "source": [
    "import re\n",
    "import nltk\n",
    "from nltk.corpus import stopwords\n",
    "from nltk.stem import PorterStemmer\n",
    "\n",
    "def preprocess_text(text: str, remove_stopwords: bool) -> str:\n",
    "    \n",
    "    # remove links, special characters, numbers, stopwords, whitespaces\n",
    "    # also remove words that are actually filters\n",
    "    stopwords_list = stopwords.words(\"english\")  \n",
    "    lem = WordNetLemmatizer()\n",
    "    ps = PorterStemmer()\n",
    "    text = re.sub(r\"http\\S+\", \"\", text)\n",
    "    text = re.sub(\"[^A-Za-z]+\", \" \", text)\n",
    "    if remove_stopwords:\n",
    "        tokens = nltk.word_tokenize(text)\n",
    "        tokens = [ps.stem(lem.lemmatize(w)) for w in tokens if not w.lower() in stopwords_list]\n",
    "        text = \" \".join(tokens)\n",
    "        text.replace('prejudice', 'bia')\n",
    "    \n",
    "    text = text.lower().strip()\n",
    "    \n",
    "    return text"
   ]
  },
  {
   "cell_type": "code",
   "execution_count": 6,
   "id": "b62473dc",
   "metadata": {},
   "outputs": [],
   "source": [
    "# create cleaned column\n",
    "df['cleaned_w_title'] = df['abstract'].apply(lambda x: preprocess_text(x, remove_stopwords=True)) \\\n",
    "                + df['title'].apply(lambda x: preprocess_text(x, remove_stopwords=True))\n",
    "df['cleaned_wo_title'] = df['abstract'].apply(lambda x: preprocess_text(x, remove_stopwords=True))"
   ]
  },
  {
   "cell_type": "code",
   "execution_count": 7,
   "id": "8107ce44",
   "metadata": {},
   "outputs": [
    {
     "name": "stdout",
     "output_type": "stream",
     "text": [
      "length\n"
     ]
    }
   ],
   "source": [
    "ps = PorterStemmer()\n",
    "print(ps.stem('length'))"
   ]
  },
  {
   "cell_type": "code",
   "execution_count": 8,
   "id": "a090d7b1",
   "metadata": {},
   "outputs": [],
   "source": [
    "excludes = ['algorithm bia', 'induct bia', 'media bia', 'model bia', 'dataset bia',\n",
    "            'common sense bia', 'exposur bia', 'hyperpartisan news', 'hypothesi bia', 'polit bia', \n",
    "            'posit bia', 'statist bia', 'system bia', 'learn bia', 'length bia', ' les ', ' des ', ' en ']\n",
    "df = df[~df['cleaned_w_title'].str.contains('|'.join(excludes))]"
   ]
  },
  {
   "cell_type": "code",
   "execution_count": 9,
   "id": "6f2ba9eb",
   "metadata": {},
   "outputs": [
    {
     "name": "stdout",
     "output_type": "stream",
     "text": [
      "320\n"
     ]
    }
   ],
   "source": [
    "print(len(df))"
   ]
  },
  {
   "cell_type": "code",
   "execution_count": 10,
   "id": "45af36e8",
   "metadata": {},
   "outputs": [],
   "source": [
    "from sklearn.feature_extraction.text import TfidfVectorizer\n",
    "\n",
    "vectorizer = TfidfVectorizer(sublinear_tf=True, max_df=0.2, max_features=80)\n",
    "X = vectorizer.fit_transform(df['cleaned_w_title'])\n",
    "Y = vectorizer.fit_transform(df['cleaned_wo_title'])"
   ]
  },
  {
   "cell_type": "code",
   "execution_count": 11,
   "id": "d67f3b68",
   "metadata": {},
   "outputs": [],
   "source": [
    "from sklearn.cluster import KMeans\n",
    "from sklearn.decomposition import PCA\n",
    "import matplotlib.pyplot as plt\n",
    "import numpy as np\n",
    "sns.set_style(\"darkgrid\")\n",
    "colors = sns.color_palette(cc.glasbey_warm, n_colors=25)"
   ]
  },
  {
   "cell_type": "code",
   "execution_count": 12,
   "id": "28c7d9ee",
   "metadata": {
    "scrolled": true
   },
   "outputs": [
    {
     "name": "stdout",
     "output_type": "stream",
     "text": [
      "entries: 320\n"
     ]
    }
   ],
   "source": [
    "print(f'entries: {len(df.index)}')"
   ]
  },
  {
   "cell_type": "markdown",
   "id": "7597c7c2",
   "metadata": {},
   "source": [
    "# Elbow-test\n",
    "To find optimal k (where graph would seem to converge-ish)"
   ]
  },
  {
   "cell_type": "code",
   "execution_count": 13,
   "id": "86c59797",
   "metadata": {},
   "outputs": [
    {
     "data": {
      "image/png": "[encoded data removed]",
      "text/plain": [
       "<Figure size 432x288 with 1 Axes>"
      ]
     },
     "metadata": {
      "needs_background": "light"
     },
     "output_type": "display_data"
    }
   ],
   "source": [
    "import matplotlib.pyplot as plt\n",
    "\n",
    "def elbow_test(data, max_k=5, max_iter=500):\n",
    "    # perform elbow test\n",
    "    cost =[]\n",
    "    for i in range(1, max_k):\n",
    "        kmeans = KMeans(n_clusters=i, max_iter=max_iter)\n",
    "        kmeans.fit(data)\n",
    "\n",
    "        # calculates squared error\n",
    "        # for the clustered points\n",
    "        cost.append(kmeans.inertia_)    \n",
    "\n",
    "    # plot the cost against K values\n",
    "    plt.plot(range(1, max_k), cost, color ='g', linewidth ='3')\n",
    "    #plt.title(\"Elbow test for clustering with Title as input\")\n",
    "    plt.xlabel(\"Value of K\")\n",
    "    plt.ylabel(\"Squared Error (Cost)\")\n",
    "    plt.show() # clear the plot\n",
    "\n",
    "elbow_test(X, max_k=21)"
   ]
  },
  {
   "cell_type": "markdown",
   "id": "7182aa0a",
   "metadata": {},
   "source": [
    "# PCA & KMeans"
   ]
  },
  {
   "cell_type": "code",
   "execution_count": 14,
   "id": "871fa809",
   "metadata": {},
   "outputs": [],
   "source": [
    "def make_pca_vecs(data, n_clusters=5):\n",
    "# vary here the number of clusters\n",
    "    kmeans = KMeans(n_clusters, random_state=42)\n",
    "    kmeans.fit(data)\n",
    "    clusters = kmeans.labels_\n",
    "    # initialize PCA with 2 components\n",
    "    pca = PCA(n_components=2, random_state=42)\n",
    "    # pass our X to the pca and store the reduced vectors into pca_vecs\n",
    "    pca_vecs = pca.fit_transform(data.toarray())\n",
    "    # save our two dimensions into x0 and x1\n",
    "    x0 = pca_vecs[:, 0]\n",
    "    x1 = pca_vecs[:, 1]\n",
    "    \n",
    "    return clusters, clusters, x0, x1"
   ]
  },
  {
   "cell_type": "code",
   "execution_count": 15,
   "id": "5f7e2d71",
   "metadata": {},
   "outputs": [],
   "source": [
    "# assign clusters and pca vectors to our dataframe \n",
    "clusters_df, df['cluster'], df['x0'], df['x1'] = make_pca_vecs(X, n_clusters=3)"
   ]
  },
  {
   "cell_type": "code",
   "execution_count": 16,
   "id": "f1c8cef1",
   "metadata": {},
   "outputs": [],
   "source": [
    "pd.set_option(\"display.max_rows\", None, \"display.max_columns\", None)\n",
    "pd.options.display.max_colwidth = 100"
   ]
  },
  {
   "cell_type": "code",
   "execution_count": 17,
   "id": "940f6bd0",
   "metadata": {
    "scrolled": true
   },
   "outputs": [
    {
     "name": "stdout",
     "output_type": "stream",
     "text": [
      "\n",
      "Cluster 1\n",
      "predict,across,stereotyp,annot,often,process,context,reduc,machin,state\n",
      "\n",
      "Cluster 2\n",
      "featur,includ,fine,english,challeng,classif,framework,news,analyz,demograph\n",
      "\n",
      "Cluster 3\n",
      "investig,identifi,stereotyp,framework,techniqu,score,may,domain,larg,translat\n"
     ]
    },
    {
     "name": "stderr",
     "output_type": "stream",
     "text": [
      "/opt/homebrew/lib/python3.9/site-packages/sklearn/utils/deprecation.py:87: FutureWarning: Function get_feature_names is deprecated; get_feature_names is deprecated in 1.0 and will be removed in 1.2. Please use get_feature_names_out instead.\n",
      "  warnings.warn(msg, category=FutureWarning)\n"
     ]
    }
   ],
   "source": [
    "def get_top_keywords(this_df, data, clusters, n_terms):\n",
    "    \"\"\"This function returns the keywords for each centroid of the KMeans\"\"\"\n",
    "    df = pd.DataFrame(data.todense()).groupby(clusters).mean() # groups the TF-IDF vector by cluster\n",
    "    terms = vectorizer.get_feature_names() # access tf-idf terms\n",
    "    for i,r in df.iterrows():\n",
    "        print('\\nCluster {}'.format(i+1))\n",
    "        print(','.join([terms[t] for t in np.argsort(r)[-n_terms:]])) # for each row of the dataframe, find the n terms that have the highest tf idf score\n",
    "            \n",
    "get_top_keywords(df, X, clusters_df, 10)\n"
   ]
  },
  {
   "cell_type": "code",
   "execution_count": 18,
   "id": "908482ae",
   "metadata": {},
   "outputs": [],
   "source": [
    "# map clusters to appropriate labels \n",
    "cluster_map = {0: \"cluster 01\", \n",
    "               1: \"cluster 02\", \n",
    "               2: \"cluster 03\", \n",
    "               3: \"cluster 04\", \n",
    "               4: \"cluster 05\", \n",
    "               5: \"cluster 06\", \n",
    "              }\n",
    "# apply mapping\n",
    "df['cluster'] = df['cluster'].map(cluster_map)"
   ]
  },
  {
   "cell_type": "markdown",
   "id": "95dcc8d2",
   "metadata": {},
   "source": [
    "# visualizing outputs"
   ]
  },
  {
   "cell_type": "code",
   "execution_count": 19,
   "id": "fb502c30",
   "metadata": {},
   "outputs": [
    {
     "data": {
      "image/png": "[encoded data removed]",
      "text/plain": [
       "<Figure size 864x504 with 1 Axes>"
      ]
     },
     "metadata": {
      "needs_background": "light"
     },
     "output_type": "display_data"
    }
   ],
   "source": [
    "plt.rcParams['figure.figsize'] = [10, 5]\n",
    "import seaborn as sns\n",
    "\n",
    "def make_kmeans_plot(this_df):\n",
    "    # set image size\n",
    "    plt.figure(figsize=(12, 7))\n",
    "    #plt.title(\"TF-IDF + KMeans bias abstracts clustering\", fontdict={\"fontsize\": 18})\n",
    "    # set axes names\n",
    "    plt.xlabel(\"X0\", fontdict={\"fontsize\": 16})\n",
    "    plt.ylabel(\"X1\", fontdict={\"fontsize\": 16})\n",
    "    # create scatter plot with seaborn, where hue is the class used to group the data\n",
    "    sns.scatterplot(data=this_df, x='x0', y='x1', hue='cluster')\n",
    "    plt.show()\n",
    "    \n",
    "make_kmeans_plot(df)"
   ]
  },
  {
   "cell_type": "markdown",
   "id": "7166ff25",
   "metadata": {},
   "source": [
    "# stats & plots"
   ]
  },
  {
   "cell_type": "markdown",
   "id": "66ddd2b0",
   "metadata": {},
   "source": [
    "## ngram analysis"
   ]
  },
  {
   "cell_type": "code",
   "execution_count": 20,
   "id": "e916b3a6",
   "metadata": {},
   "outputs": [
    {
     "name": "stdout",
     "output_type": "stream",
     "text": [
      "MOST COMMON\n",
      "BIGRAMS\n",
      "[(('gender', 'bia'), 91), (('natur', 'languag'), 67), (('word', 'embed'), 64), (('languag', 'model'), 55), (('e', 'g'), 44), (('languag', 'process'), 41), (('state', 'art'), 37), (('train', 'data'), 37), (('social', 'bia'), 35), (('mitig', 'bia'), 32), (('machin', 'learn'), 31), (('model', 'train'), 30), (('pre', 'train'), 28), (('bia', 'word'), 27), (('debias', 'method'), 27), (('machin', 'translat'), 24), (('real', 'world'), 23), (('fine', 'tune'), 21), (('paper', 'propos'), 21), (('nlp', 'system'), 17), (('propos', 'method'), 17), (('test', 'set'), 16), (('wide', 'use'), 16), (('social', 'medium'), 16), (('process', 'nlp'), 15), (('downstream', 'task'), 15), (('et', 'al'), 15), (('bia', 'mitig'), 15), (('experi', 'show'), 15), (('mitig', 'gender'), 15)]\n",
      "\n",
      "TRIGRAMS\n",
      "[(('natur', 'languag', 'process'), 40), (('bia', 'word', 'embed'), 22), (('languag', 'process', 'nlp'), 15), (('pretrain', 'languag', 'model'), 14), (('mitig', 'gender', 'bia'), 14), (('reduc', 'gender', 'bia'), 13), (('gender', 'bia', 'word'), 12), (('pre', 'train', 'languag'), 11), (('train', 'languag', 'model'), 11), (('bia', 'natur', 'languag'), 9), (('machin', 'learn', 'model'), 9), (('neural', 'machin', 'translat'), 9), (('hate', 'speech', 'detect'), 8), (('contextu', 'word', 'embed'), 8), (('natur', 'languag', 'understand'), 7), (('word', 'embed', 'associ'), 7), (('natur', 'languag', 'gener'), 7), (('bia', 'train', 'data'), 7), (('train', 'word', 'embed'), 7), (('evalu', 'gender', 'bia'), 6), (('use', 'word', 'embed'), 6), (('quantifi', 'gender', 'bia'), 6), (('bolukbasi', 'et', 'al'), 6), (('machin', 'translat', 'mt'), 6), (('bia', 'machin', 'translat'), 6), (('languag', 'grammat', 'gender'), 6), (('machin', 'translat', 'system'), 6), (('embed', 'associ', 'test'), 6), (('gender', 'bia', 'present'), 6), (('word', 'embed', 'model'), 6), (('machin', 'learn', 'techniqu'), 6), (('larg', 'languag', 'model'), 5), (('real', 'world', 'applic'), 5), (('bia', 'mitig', 'techniqu'), 5), (('natur', 'languag', 'infer'), 5), (('languag', 'model', 'plm'), 5), (('bia', 'languag', 'model'), 5), (('model', 'train', 'dataset'), 5), (('bias', 'word', 'embed'), 5), (('measur', 'gender', 'bia'), 5)]\n",
      "\n",
      "POSITION 0\n",
      "BIGRAMS\n",
      "[(('bia', 'word'), 27), (('bia', 'mitig'), 15), (('bia', 'present'), 15), (('bia', 'model'), 14), (('bia', 'measur'), 12), (('bia', 'evalu'), 12), (('bia', 'propos'), 11), (('bia', 'machin'), 11), (('bia', 'encod'), 11), (('bia', 'detect'), 11), (('bia', 'data'), 11), (('bia', 'result'), 10), (('bia', 'stereotyp'), 10), (('bia', 'exist'), 10), (('bia', 'languag'), 10), (('bia', 'train'), 10), (('bia', 'natur'), 9), (('bia', 'nlp'), 9), (('bia', 'text'), 9), (('bia', 'toward'), 8)]\n",
      "\n",
      "TRIGRAMS\n",
      "[(('bia', 'word', 'embed'), 22), (('bia', 'natur', 'languag'), 9), (('bia', 'train', 'data'), 7), (('bia', 'machin', 'translat'), 6), (('bia', 'mitig', 'techniqu'), 5), (('bia', 'languag', 'model'), 5), (('bias', 'word', 'embed'), 5), (('bia', 'hate', 'speech'), 5), (('bia', 'corefer', 'resolut'), 5), (('bia', 'e', 'g'), 5), (('bia', 'machin', 'learn'), 4), (('bia', 'pretrain', 'languag'), 3), (('bia', 'fine', 'tune'), 3), (('bia', 'mitig', 'approach'), 3), (('bia', 'abus', 'languag'), 3), (('bia', 'downstream', 'task'), 3), (('bia', 'encod', 'word'), 3), (('bia', 'w', 'ikipedia'), 3), (('bia', 'nlp', 'system'), 3), (('bia', 'data', 'collect'), 3), (('bia', 'evalu', 'metric'), 3), (('bia', 'contextu', 'word'), 3), (('bia', 'toward', 'certain'), 2), (('bia', 'speech', 'translat'), 2), (('bia', 'found', 'word'), 2), (('bia', 'comput', 'argument'), 2), (('bias', 'toxic', 'languag'), 2), (('bia', 'present', 'train'), 2), (('bia', 'wikipedia', 'corpu'), 2), (('bia', 'propos', 'novel'), 2), (('bia', 'result', 'suggest'), 2), (('bia', 'reduc', 'bia'), 2), (('bia', 'data', 'algorithm'), 2), (('bia', 'downstream', 'applic'), 2), (('bia', 'train', 'corpu'), 2), (('bia', 'detect', 'method'), 2), (('bia', 'find', 'method'), 2), (('bia', 'present', 'data'), 2), (('bia', 'vari', 'across'), 2), (('bia', 'neg', 'impact'), 2)]\n",
      "BIGRAMS\n",
      "\n",
      "POSITION 1\n",
      "[(('gender', 'bia'), 91), (('social', 'bia'), 35), (('mitig', 'bia'), 32), (('remov', 'bia'), 13), (('measur', 'bia'), 13), (('societ', 'bia'), 13), (('reduc', 'bia'), 12), (('implicit', 'bia'), 11), (('annot', 'bia'), 9), (('type', 'bia'), 9), (('demograph', 'bia'), 8), (('stereotyp', 'bia'), 8), (('exist', 'bia'), 8), (('exhibit', 'bia'), 7), (('studi', 'bia'), 7), (('evalu', 'bia'), 7), (('investig', 'bia'), 7), (('human', 'bia'), 7), (('bia', 'bia'), 6), (('unintend', 'bia'), 6), (('racial', 'bia'), 6), (('sourc', 'bia'), 6), (('effect', 'bia'), 6), (('quantifi', 'bia'), 6), (('select', 'bia'), 6), (('gender', 'bias'), 6), (('form', 'bia'), 5), (('embed', 'bia'), 5), (('specif', 'bia'), 5), (('detect', 'bia'), 5), (('understand', 'bia'), 5), (('show', 'bia'), 5), (('analyz', 'bia'), 5), (('identifi', 'bia'), 5), (('lead', 'bia'), 4), (('potenti', 'bia'), 4), (('social', 'bias'), 4), (('level', 'bia'), 4), (('sampl', 'bia'), 4), (('howev', 'bia'), 4), (('le', 'bias'), 4), (('amplifi', 'bia'), 4), (('propag', 'bia'), 4), (('method', 'bia'), 4), (('fair', 'bia'), 4), (('ass', 'bia'), 3), (('undesir', 'bia'), 3), (('challeng', 'bia'), 3), (('intersect', 'bias'), 3), (('introduc', 'bia'), 3)]\n",
      "\n",
      "TRIGRAMS\n",
      "[(('gender', 'bia', 'word'), 12), (('gender', 'bia', 'present'), 6), (('gender', 'bia', 'machin'), 4), (('social', 'bia', 'stereotyp'), 4), (('gender', 'bia', 'exist'), 4), (('gender', 'bia', 'natur'), 3), (('mitig', 'bia', 'propos'), 3), (('social', 'bia', 'languag'), 3), (('gender', 'bia', 'corefer'), 3), (('gender', 'bia', 'within'), 3), (('gender', 'bia', 'w'), 3), (('gender', 'bia', 'evalu'), 3), (('gender', 'bia', 'show'), 3), (('mitig', 'bia', 'word'), 3), (('gender', 'bia', 'mitig'), 3), (('gender', 'bia', 'embed'), 3), (('gender', 'bia', 'neural'), 3), (('gender', 'bia', 'text'), 3), (('undesir', 'bia', 'toxic'), 2), (('gender', 'bia', 'measur'), 2), (('gender', 'bia', 'result'), 2), (('mitig', 'bia', 'pretrain'), 2), (('gender', 'bia', 'detect'), 2), (('gender', 'bia', 'speech'), 2), (('propos', 'bia', 'mitig'), 2), (('social', 'bia', 'larg'), 2), (('social', 'bia', 'use'), 2), (('type', 'bia', 'like'), 2), (('gender', 'bia', 'wikipedia'), 2), (('gender', 'bia', 'nlp'), 2), (('gender', 'bia', 'mt'), 2), (('differ', 'bia', 'measur'), 2), (('annot', 'bia', 'caus'), 2), (('mitig', 'bia', 'fine'), 2), (('effect', 'bia', 'mitig'), 2), (('gender', 'bia', 'case'), 2), (('social', 'bia', 'within'), 2), (('gender', 'bia', 'model'), 2), (('gender', 'bia', 'variou'), 2), (('social', 'bia', 'propos'), 2)]\n",
      "\n",
      "POSITION 2\n",
      "TRIGRAMS\n",
      "[(('mitig', 'gender', 'bia'), 14), (('reduc', 'gender', 'bia'), 13), (('evalu', 'gender', 'bia'), 6), (('quantifi', 'gender', 'bia'), 6), (('measur', 'gender', 'bia'), 5), (('studi', 'gender', 'bia'), 5), (('method', 'mitig', 'bia'), 4), (('word', 'embed', 'bia'), 4), (('investig', 'gender', 'bia'), 4), (('focus', 'gender', 'bia'), 3), (('amplifi', 'gender', 'bia'), 3), (('implicit', 'gender', 'bia'), 3), (('measur', 'mitig', 'bia'), 3), (('analysi', 'gender', 'bia'), 3), (('includ', 'gender', 'bia'), 3), (('investig', 'annot', 'bia'), 3), (('quantifi', 'mitig', 'bia'), 3), (('measur', 'social', 'bia'), 2), (('model', 'train', 'bias'), 2), (('gender', 'racial', 'bia'), 2), (('human', 'like', 'bia'), 2), (('captur', 'social', 'bia'), 2), (('type', 'social', 'bia'), 2), (('evalu', 'social', 'bia'), 2), (('stereotyp', 'gender', 'bia'), 2), (('effect', 'mitig', 'bia'), 2), (('better', 'understand', 'bia'), 2), (('measur', 'annot', 'bia'), 2), (('model', 'vulner', 'bia'), 2), (('unintend', 'social', 'bia'), 2), (('remov', 'social', 'bia'), 2), (('investig', 'sourc', 'bia'), 2), (('bia', 'reduc', 'bia'), 2), (('encod', 'human', 'bia'), 2), (('model', 'gender', 'bia'), 2), (('form', 'social', 'bia'), 2), (('presenc', 'gender', 'bia'), 2), (('sentenc', 'level', 'bia'), 2), (('evid', 'gender', 'bia'), 2), (('racial', 'religi', 'bia'), 2)]\n"
     ]
    }
   ],
   "source": [
    "from nltk.util import ngrams\n",
    "from collections import Counter\n",
    "\n",
    "def count_ngrams(this_df, num, keyword_list, pos):\n",
    "    \n",
    "    all_ngrams = []\n",
    "    bias_ngrams = []\n",
    "    \n",
    "    for idx, row in this_df.iterrows():\n",
    "        tokens = nltk.word_tokenize(row['cleaned_w_title'])\n",
    "        ngrams = set(nltk.ngrams(tokens, num))\n",
    "        all_ngrams += ngrams\n",
    "        \n",
    "    frequence = Counter(all_ngrams)\n",
    "\n",
    "    for entry, value in frequence.most_common():\n",
    "        if entry[pos] in keyword_list:\n",
    "            bias_ngrams.append((entry, value))\n",
    "    \n",
    "    if bias_ngrams:\n",
    "        return bias_ngrams\n",
    "    return frequence.most_common()\n",
    "\n",
    "\n",
    "print('MOST COMMON')\n",
    "print('BIGRAMS')\n",
    "print(count_ngrams(df, 2, [''], 0)[:30])\n",
    "print()\n",
    "print('TRIGRAMS')\n",
    "print(count_ngrams(df, 3, [''], 0)[:40])\n",
    "print()\n",
    "print('POSITION 0')\n",
    "print('BIGRAMS')\n",
    "print(count_ngrams(df, 2, ['bia', 'bias'], 0)[:20])\n",
    "print()\n",
    "print('TRIGRAMS')\n",
    "print(count_ngrams(df, 3, ['bia', 'bias'], 0)[:40])\n",
    "print('BIGRAMS')\n",
    "print()\n",
    "print('POSITION 1')\n",
    "print(count_ngrams(df, 2, ['bia', 'bias'], 1)[:50])\n",
    "print()\n",
    "print('TRIGRAMS')\n",
    "print(count_ngrams(df, 3, ['bia', 'bias'], 1)[:40])\n",
    "print()\n",
    "print('POSITION 2')\n",
    "print('TRIGRAMS')\n",
    "print(count_ngrams(df, 3, ['bia', 'bias'], 2)[:40])"
   ]
  },
  {
   "cell_type": "markdown",
   "id": "7090119d",
   "metadata": {},
   "source": [
    "## type of bias plot"
   ]
  },
  {
   "cell_type": "code",
   "execution_count": 21,
   "id": "af460478",
   "metadata": {},
   "outputs": [],
   "source": [
    "def issublist(org, sub):\n",
    "    return any(org[idx : idx + len(sub)] == sub for idx in range(len(org) - len(sub) + 1))"
   ]
  },
  {
   "cell_type": "code",
   "execution_count": 22,
   "id": "605a698d",
   "metadata": {},
   "outputs": [],
   "source": [
    "def find_paper(keyword, text):\n",
    "    \n",
    "    if keyword in text:\n",
    "        \n",
    "        if keyword == 'social':\n",
    "            if issublist(text, [keyword,'medium']) and not issublist(text, [keyword,'bia']):\n",
    "                return False\n",
    "        \n",
    "        if keyword in ['annot', 'evalu', 'inher', 'predict', 'label', 'represent', 'societ', 'stereotyp']:\n",
    "            if not (issublist(text, ['bia', keyword]) or issublist(text, [keyword, 'bia'])):\n",
    "                return False\n",
    "            \n",
    "        if keyword == 'african' and not issublist(text, ['against','african']):\n",
    "            return False\n",
    "        \n",
    "        return True\n",
    "        \n",
    "    return False"
   ]
  },
  {
   "cell_type": "code",
   "execution_count": 23,
   "id": "fa913ac6",
   "metadata": {},
   "outputs": [
    {
     "name": "stdout",
     "output_type": "stream",
     "text": [
      "inher\n"
     ]
    }
   ],
   "source": [
    "ps = PorterStemmer()\n",
    "print(ps.stem('inherent'))"
   ]
  },
  {
   "cell_type": "code",
   "execution_count": 24,
   "id": "6fef4c67",
   "metadata": {},
   "outputs": [],
   "source": [
    "# hand crafted bias list (feel free to change)\n",
    "### TODO 'ableist', 'diachron' did not work for conferences\n",
    "bias_list = ['aae', 'ableist', 'african', 'age', 'annot','demograph', 'diachron', 'disabl', 'ethnic', 'ethnograph', 'evalu', 'frame', \n",
    "             'gender', 'implicit', 'inher', 'label', 'predict', 'race', 'racial', 'religi', 'represent', 'sampl', 'select', 'semant', \n",
    "             'sens', 'social', 'societ', 'stereotyp']\n",
    "\n",
    "bias_label_list = ['Age', 'Ableist', 'Annotator', 'Demographic', 'Diachronic', 'Evaluation', 'Framing', 'Gender', 'Label', 'Prediction',\n",
    "             'Racial', 'Religious', 'Selection', 'Semantic', 'Common Sense', 'Social', 'Societal', 'Stereotype']\n",
    "\n",
    "# ONE HOT ENCODING\n",
    "def one_hot(this_df, bias_list=bias_list):\n",
    "    for i in bias_list:\n",
    "        this_df[i] = this_df['cleaned_w_title'].str.split().apply(lambda x: find_paper(i, x))\n",
    "    this_df['racial'] += this_df['race'] + this_df['ethnic'] + this_df['aae'] + this_df['african'] + this_df['ethnograph']\n",
    "    this_df['select'] += this_df['sampl'] + this_df['represent']\n",
    "    this_df['semant'] += this_df['implicit'] + this_df['inher']\n",
    "    this_df['ableist'] += this_df['disabl']\n",
    "        \n",
    "def add_not_spec_col(this_df, bias_list=bias_list):\n",
    "    for i in bias_list:\n",
    "        this_df.loc[(this_df[i] == True), 'not_specified'] = False\n",
    "        \n",
    "    this_df.loc[(this_df['not_specified'].isnull()), 'not_specified'] = True\n",
    "        \n",
    "one_hot(df)\n",
    "add_not_spec_col(df)"
   ]
  },
  {
   "cell_type": "code",
   "execution_count": 25,
   "id": "d9dd7dae",
   "metadata": {},
   "outputs": [],
   "source": [
    "bias_list.remove('race')\n",
    "bias_list.remove('ethnic')\n",
    "bias_list.remove('sampl')\n",
    "bias_list.remove('aae')\n",
    "bias_list.remove('african')\n",
    "bias_list.remove('implicit')\n",
    "bias_list.remove('represent')\n",
    "bias_list.remove('disabl')\n",
    "bias_list.remove('ethnograph')\n",
    "bias_list.remove('inher')"
   ]
  },
  {
   "cell_type": "code",
   "execution_count": 26,
   "id": "ed290b76",
   "metadata": {},
   "outputs": [],
   "source": [
    "def count_biases(this_df, bias_list=bias_list):\n",
    "    counts = []\n",
    "    for i in bias_list:\n",
    "        counts.append(this_df[i].value_counts())\n",
    "        \n",
    "    counts.append(this_df['not_specified'].value_counts())\n",
    "    \n",
    "    return counts"
   ]
  },
  {
   "cell_type": "code",
   "execution_count": 27,
   "id": "332dad57",
   "metadata": {},
   "outputs": [
    {
     "name": "stdout",
     "output_type": "stream",
     "text": [
      "ableist\n",
      "age\n",
      "annot\n",
      "demograph\n",
      "diachron\n",
      "evalu\n",
      "frame\n",
      "gender\n",
      "label\n",
      "predict\n",
      "racial\n",
      "religi\n",
      "select\n",
      "semant\n",
      "sens\n",
      "social\n",
      "societ\n",
      "stereotyp\n",
      "ableist           0\n",
      "age               4\n",
      "annot             1\n",
      "demograph        11\n",
      "diachron          1\n",
      "evalu             5\n",
      "frame             1\n",
      "gender           35\n",
      "label             0\n",
      "predict           0\n",
      "racial           12\n",
      "religi            1\n",
      "select            7\n",
      "semant           12\n",
      "sens              1\n",
      "societ            1\n",
      "stereotyp         6\n",
      "not_specified     0\n",
      "Name: True, dtype: int64\n"
     ]
    },
    {
     "data": {
      "image/png": "[encoded data removed]",
      "text/plain": [
       "<Figure size 720x360 with 1 Axes>"
      ]
     },
     "metadata": {},
     "output_type": "display_data"
    }
   ],
   "source": [
    "def count_social_biases(this_df, bias_list=bias_list):\n",
    "    counts = []\n",
    "    temp_df = pd.DataFrame()\n",
    "    for i in bias_list:\n",
    "        print(i)\n",
    "        if i == 'social':\n",
    "            continue\n",
    "        temp_df[i] = pd.crosstab(this_df[i],this_df['social']).loc[True]\n",
    "        \n",
    "    temp_df['not_specified'] = (this_df['social'].value_counts() - temp_df.sum(axis=True)).clip(0, None)\n",
    "    \n",
    "    plt.pie(temp_df.loc[True], labels = bias_label_list, colors = colors)\n",
    "    #plt.title('Bias type in papers mentioning \"social bias\"')\n",
    "        \n",
    "    return temp_df.loc[True]\n",
    "\n",
    "print(count_social_biases(df, bias_list=bias_list))"
   ]
  },
  {
   "cell_type": "code",
   "execution_count": 28,
   "id": "f809bfa5",
   "metadata": {},
   "outputs": [
    {
     "name": "stdout",
     "output_type": "stream",
     "text": [
      "               False  True\n",
      "ableist          318     2\n",
      "age              305    15\n",
      "annot            308    12\n",
      "demograph        278    42\n",
      "diachron         316     4\n",
      "evalu            302    18\n",
      "frame            315     5\n",
      "gender           173   147\n",
      "label            317     3\n",
      "predict          317     3\n",
      "racial           269    51\n",
      "religi           314     6\n",
      "select           273    47\n",
      "semant           274    46\n",
      "sens             315     5\n",
      "social           254    66\n",
      "societ           306    14\n",
      "stereotyp        302    18\n",
      "not_specified    255    65\n"
     ]
    },
    {
     "data": {
      "image/png": "[encoded data removed]",
      "text/plain": [
       "<Figure size 720x360 with 1 Axes>"
      ]
     },
     "metadata": {},
     "output_type": "display_data"
    }
   ],
   "source": [
    "def plot_counts(this_df):\n",
    "    df_counts = pd.concat(count_biases(this_df), axis=1).transpose().fillna(0)\n",
    "    print(df_counts)\n",
    "    plt.pie(df_counts[True], colors = colors)\n",
    "    pylab.ylabel('')\n",
    "    plt.legend(bias_label_list + ['Not specified'], bbox_to_anchor=(1.05, 1), loc='upper left', borderaxespad=0)\n",
    "    \n",
    "plot_counts(df)"
   ]
  },
  {
   "cell_type": "code",
   "execution_count": 29,
   "id": "dffed1c9",
   "metadata": {},
   "outputs": [
    {
     "data": {
      "image/png": "[encoded data removed]",
      "text/plain": [
       "<Figure size 720x360 with 1 Axes>"
      ]
     },
     "metadata": {
      "needs_background": "light"
     },
     "output_type": "display_data"
    }
   ],
   "source": [
    "# year per cluster\n",
    "def year_per_clust_plot(this_df):\n",
    "    pd.crosstab(this_df['year'],this_df['cluster']).plot(kind='bar', color=colors);\n",
    "    #plt.title('Paper per year by cluster', fontdict={\"fontsize\": 10})\n",
    "    plt.ylabel(\"Number of Papers\", fontsize=14)\n",
    "    plt.xlabel('Year', fontsize=14)\n",
    "    plt.xticks(rotation=45, ha=\"right\")\n",
    "    plt.legend(bbox_to_anchor=(1.05, 1), loc='upper left', borderaxespad=0, fontsize=12)\n",
    "    plt.grid(linestyle='--')\n",
    "    \n",
    "year_per_clust_plot(df)"
   ]
  },
  {
   "cell_type": "code",
   "execution_count": 30,
   "id": "39d2d446",
   "metadata": {},
   "outputs": [],
   "source": [
    "bias_label_wo_social = bias_label_list.copy()\n",
    "bias_label_wo_social.remove('Social')\n",
    "bias_label_wo_social.remove('Ableist')\n",
    "bias_label_wo_social.remove('Label')\n",
    "bias_label_wo_social.remove('Prediction')"
   ]
  },
  {
   "cell_type": "code",
   "execution_count": 31,
   "id": "e9e91da2",
   "metadata": {},
   "outputs": [
    {
     "data": {
      "image/png": "[encoded data removed]",
      "text/plain": [
       "<Figure size 720x360 with 1 Axes>"
      ]
     },
     "metadata": {
      "needs_background": "light"
     },
     "output_type": "display_data"
    },
    {
     "data": {
      "image/png": "[encoded data removed]",
      "text/plain": [
       "<Figure size 720x360 with 1 Axes>"
      ]
     },
     "metadata": {
      "needs_background": "light"
     },
     "output_type": "display_data"
    },
    {
     "data": {
      "image/png": "[encoded data removed]",
      "text/plain": [
       "<Figure size 720x360 with 1 Axes>"
      ]
     },
     "metadata": {
      "needs_background": "light"
     },
     "output_type": "display_data"
    }
   ],
   "source": [
    "# bias per year\n",
    "def bias_per_year_plot(this_df, this_bias_list=bias_list):\n",
    "    \n",
    "    temp_df = pd.DataFrame()\n",
    "    social_df = pd.DataFrame()\n",
    "    this_social_df = this_df.loc[this_df['social'] == True]\n",
    "    this_bias_label_list = bias_label_list.copy()\n",
    "    count_dels = 0\n",
    "    \n",
    "    for idx, val in enumerate(this_bias_list):\n",
    "        \n",
    "        if this_df[val].any():\n",
    "            temp_df[val] = pd.crosstab(this_df[val],this_df['year']).loc[True]\n",
    "        else:\n",
    "            del this_bias_label_list[idx-count_dels]\n",
    "            count_dels += 1\n",
    "        \n",
    "        if val == 'social':\n",
    "            continue\n",
    "        \n",
    "        if this_social_df[val].any():\n",
    "            social_df[val] = pd.crosstab(this_social_df[val],this_social_df['year']).loc[True]\n",
    "    \n",
    "    social_df['undefined'] = (temp_df['social'] - social_df[(social_df != 0)].sum(axis=1)).clip(0, None)\n",
    "    social_df['undefined'] = social_df['undefined'].astype('Int64')\n",
    "    social_df = social_df.fillna(0)\n",
    "    social_splitted_df = temp_df.copy()\n",
    "            \n",
    "    temp_df['undefined'] = pd.crosstab(this_df['not_specified'],this_df['year']).loc[True]\n",
    "    #temp_df['not_specified'] = temp_df['undefined'].astype('Int64')\n",
    "    social_splitted_df['undefined'] = pd.crosstab(this_df['not_specified'],this_df['year']).loc[True]\n",
    "    \n",
    "    social_splitted_df = social_splitted_df.add(social_df, fill_value=0)\n",
    "    social_splitted_df['social'] = social_df['undefined']\n",
    "    #social_splitted_df = social_splitted_df.drop('undefined',axis=1)\n",
    "            \n",
    "    temp_df.plot(kind='bar', stacked=False, width=0.8, color=colors);\n",
    "    #plt.title('Paper per bias term by year')\n",
    "    plt.legend(labels=this_bias_label_list + ['None of those'], bbox_to_anchor=(1.05, 1), loc='upper left', borderaxespad=0, fontsize=10)\n",
    "    plt.xticks(rotation=45, ha=\"right\")\n",
    "    plt.ylabel(\"Number of Papers\", fontsize=14)\n",
    "    plt.xlabel('Year', fontsize=14)\n",
    "    #plt.ylim(0,social_splitted_df['gender'].max()+2)\n",
    "    plt.savefig(\"biastype_per_year.png\", dpi=1200, bbox_inches='tight')\n",
    "    plt.grid(linestyle='--')\n",
    "    \n",
    "    ### TODO: WRONG WITH DIFFERENT DATAFRAMES ###\n",
    "    \n",
    "    social_df.plot(kind='bar', stacked=True, width=0.2, color=colors);\n",
    "    #plt.title('Paper mentioning \"social\" bias, splitted by subclass')\n",
    "    plt.legend(labels=bias_label_wo_social + ['None of those'], bbox_to_anchor=(1.05, 1), loc='upper left', borderaxespad=0, fontsize=10)\n",
    "    plt.ylabel(\"Number of Papers\", fontsize=14)\n",
    "    plt.xlabel('Year', fontsize=14)\n",
    "    plt.xticks(rotation=45, ha=\"right\")\n",
    "    plt.grid(linestyle='--')\n",
    "    \n",
    "    social_splitted_df.plot(kind='bar', stacked=False, width=0.8, color=colors, figsize=(10,5));\n",
    "    #plt.title('Paper per bias term by year, \"social\" bias splitted up in classes')\n",
    "    plt.legend(labels=this_bias_label_list + ['None of those'], bbox_to_anchor=(1.05, 1), loc='upper left', borderaxespad=0, fontsize=10)\n",
    "    plt.ylabel(\"Number of Papers\", fontsize=14)\n",
    "    plt.xlabel('Year', fontsize=14)\n",
    "    plt.savefig(\"biastype_per_year_social.png\", dpi=1200, bbox_inches='tight')\n",
    "    plt.xticks(rotation=45, ha=\"right\")\n",
    "    plt.ylim(0,social_splitted_df['gender'].max()+2)\n",
    "    plt.grid(linestyle='--')\n",
    "    plt.show()\n",
    "    \n",
    "bias_per_year_plot(df)"
   ]
  },
  {
   "cell_type": "code",
   "execution_count": 32,
   "id": "87da0e3c",
   "metadata": {},
   "outputs": [
    {
     "name": "stdout",
     "output_type": "stream",
     "text": [
      "MOST COMMON\n",
      "BIGRAMS\n",
      "[(('languag', 'model'), 13), (('state', 'art'), 12), (('natur', 'languag'), 12), (('improv', 'perform'), 9), (('train', 'data'), 7), (('machin', 'learn'), 6), (('e', 'g'), 6), (('recent', 'work'), 6), (('mitig', 'bia'), 5), (('propos', 'novel'), 5), (('languag', 'process'), 5), (('experi', 'show'), 5), (('name', 'entiti'), 5), (('word', 'embed'), 5), (('debias', 'method'), 5), (('task', 'show'), 4), (('hate', 'speech'), 4), (('paper', 'investig'), 4), (('result', 'show'), 4), (('show', 'effect'), 4), (('base', 'predict'), 4), (('text', 'classif'), 4), (('bia', 'propos'), 4), (('pretrain', 'languag'), 4), (('data', 'augment'), 4), (('make', 'model'), 4), (('entiti', 'recognit'), 4), (('show', 'method'), 4), (('languag', 'understand'), 4), (('manual', 'annot'), 4), (('pre', 'train'), 4), (('model', 'train'), 4), (('sentiment', 'analysi'), 4), (('model', 'perform'), 4), (('paper', 'propos'), 4), (('model', 'robust'), 4), (('significantli', 'improv'), 4), (('base', 'approach'), 3), (('ground', 'truth'), 3), (('model', 'gener'), 3)]\n",
      "\n",
      "TRIGRAMS\n",
      "[(('pretrain', 'languag', 'model'), 4), (('natur', 'languag', 'process'), 4), (('name', 'entiti', 'recognit'), 4), (('natur', 'languag', 'understand'), 3), (('languag', 'understand', 'nlu'), 3), (('bia', 'word', 'embed'), 3), (('languag', 'model', 'gener'), 2), (('undesir', 'bia', 'toxic'), 2), (('entiti', 'recognit', 'ner'), 2), (('languag', 'model', 'plm'), 2), (('via', 'causal', 'intervent'), 2), (('text', 'classif', 'dataset'), 2), (('protect', 'group', 'show'), 2), (('hate', 'speech', 'detect'), 2), (('pre', 'train', 'languag'), 2), (('train', 'languag', 'model'), 2), (('languag', 'process', 'nlp'), 2), (('bias', 'word', 'embed'), 2), (('bia', 'propos', 'novel'), 2), (('state', 'art', 'model'), 2), (('paper', 'first', 'demonstr'), 2), (('dataset', 'contain', 'k'), 2), (('dataset', 'e', 'g'), 2), (('natur', 'languag', 'gener'), 2), (('languag', 'gener', 'nlg'), 2), (('neural', 'machin', 'translat'), 2), (('machin', 'translat', 'mt'), 2), (('corefer', 'resolut', 'task'), 2), (('work', 'natur', 'languag'), 2), (('sentenc', 'level', 'bia'), 2), (('significantli', 'improv', 'perform'), 2), (('bia', 'train', 'data'), 2), (('debias', 'method', 'shown'), 2), (('debias', 'nlu', 'model'), 2), (('method', 'shown', 'effect'), 2), (('propos', 'debias', 'method'), 2), (('opinion', 'toward', 'entiti'), 2), (('outperform', 'state', 'art'), 2), (('task', 'detect', 'affect'), 1), (('often', 'reflect', 'individu'), 1)]\n",
      "\n",
      "BIAS ON POSITION 1\n",
      "BIGRAMS\n",
      "[(('due', 'bias'), 1), (('lead', 'bias'), 1), (('induc', 'bias'), 1), (('modelmeasur', 'bias'), 1), (('gener', 'bias'), 1), (('le', 'bias'), 1), (('interact', 'bias'), 1), (('neutral', 'bias'), 1), (('tag', 'bias'), 1), (('level', 'bias'), 1), (('subject', 'bias'), 1), (('elizabeth', 'bias'), 1), (('prevent', 'bias'), 1), (('train', 'bias'), 1), (('de', 'bias'), 1), (('nerde', 'bias'), 1), (('dictionari', 'bias'), 1), (('multipl', 'bias'), 1), (('metricde', 'bias'), 1), (('method', 'bias'), 1), (('unknown', 'bias'), 1), (('sentiment', 'bias'), 1), (('predict', 'bias'), 1), (('k', 'bias'), 1), (('extract', 'bias'), 1), (('detect', 'bias'), 1), (('consid', 'bias'), 1), (('end', 'bias'), 1), (('claiminher', 'bias'), 1), (('strongli', 'bias'), 1), (('way', 'bias'), 1)]\n",
      "\n",
      "TRIGRAMS\n",
      "[(('due', 'bias', 'correl'), 1), (('lead', 'bias', 'inequit'), 1), (('induc', 'bias', 'result'), 1), (('modelmeasur', 'bias', 'word'), 1), (('gener', 'bias', 'text'), 1), (('le', 'bias', 'downstream'), 1), (('interact', 'bias', 'text'), 1), (('subject', 'bias', 'languag'), 1), (('neutral', 'bias', 'text'), 1), (('level', 'bias', 'segment'), 1), (('tag', 'bias', 'segment'), 1), (('elizabeth', 'bias', 'co'), 1), (('train', 'bias', 'toxic'), 1), (('prevent', 'bias', 'behavior'), 1), (('de', 'bias', 'ds'), 1), (('dictionari', 'bias', 'suffer'), 1), (('nerde', 'bias', 'distantli'), 1), (('metricde', 'bias', 'court'), 1), (('method', 'bias', 'toward'), 1), (('sentiment', 'bias', 'word'), 1), (('predict', 'bias', 'variou'), 1), (('k', 'bias', 'sentenc'), 1), (('consid', 'bias', 'later'), 1), (('extract', 'bias', 'sentenc'), 1), (('detect', 'bias', 'sentenc'), 1), (('end', 'bias', 'stori'), 1), (('claiminher', 'bias', 'refer'), 1), (('strongli', 'bias', 'respect'), 1), (('way', 'bias', 'attent'), 1)]\n",
      "\n"
     ]
    }
   ],
   "source": [
    "# N-GRAM analysis of not specified bias\n",
    "\n",
    "print('MOST COMMON')\n",
    "print('BIGRAMS')\n",
    "print(count_ngrams(df.loc[(df['not_specified'] == True)], 2, [''], 0)[:40])\n",
    "print()\n",
    "print('TRIGRAMS')\n",
    "print(count_ngrams(df.loc[(df['not_specified'] == True)], 3, [''], 0)[:40])\n",
    "print()\n",
    "print('BIAS ON POSITION 1')\n",
    "print('BIGRAMS')\n",
    "print(count_ngrams(df.loc[(df['not_specified'] == True)], 2, ['bias', 'biases'], 1)[:40])\n",
    "print()\n",
    "print('TRIGRAMS')\n",
    "print(count_ngrams(df.loc[(df['not_specified'] == True)], 3, ['bias', 'biases'], 1)[:40])\n",
    "print()"
   ]
  },
  {
   "cell_type": "code",
   "execution_count": 33,
   "id": "46fb2908",
   "metadata": {},
   "outputs": [
    {
     "name": "stdout",
     "output_type": "stream",
     "text": [
      "MOST COMMON\n",
      "BIGRAMS 2016\n",
      "[]\n",
      "\n",
      "BIGRAMS 2017\n",
      "[(('design', 'neural'), 1), (('user', 'prefer'), 1), (('base', 'respons'), 1), (('incorpor', 'linguist'), 1), (('respons', 'custom'), 1), (('custom', 'talk'), 1), (('convers', 'corpu'), 1), (('propos', 'architectur'), 1), (('gener', 'attach'), 1), (('attach', 'special'), 1), (('topic', 'etc'), 1), (('model', 'produc'), 1), (('sn', 'show'), 1), (('impact', 'linguist'), 1), (('group', 'linguist'), 1), (('show', 'propos'), 1), (('gener', 'human'), 1), (('chines', 'sn'), 1), (('dynam', 'control'), 1), (('decod', 'base'), 1), (('prefer', 'languag'), 1), (('nrg', 'model'), 1), (('glba', 'nrg'), 1), (('paper', 'propos'), 1), (('corpu', 'gener'), 1), (('awar', 'neural'), 1), (('architectur', 'outperform'), 1), (('propos', 'incorpor'), 1), (('present', 'experiment'), 1), (('neural', 'respons'), 1), (('sn', 'encod'), 1), (('dataset', 'chines'), 1), (('essenti', 'factor'), 1), (('servic', 'sn'), 1), (('improv', 'user'), 1), (('experiment', 'result'), 1), (('bia', 'awar'), 1), (('issu', 'paper'), 1), (('meet', 'user'), 1), (('meaning', 'vivid'), 1)]\n",
      "\n",
      "BIGRAMS 2018\n",
      "[(('languag', 'process'), 2), (('natur', 'languag'), 2), (('broaden', 'focu'), 1), (('rang', 'task'), 1), (('gener', 'novel'), 1), (('limit', 'model'), 1), (('focu', 'bias'), 1), (('solv', 'statist'), 1), (('data', 'set'), 1), (('argu', 'combin'), 1), (('process', 'increasingli'), 1), (('model', 'ignor'), 1), (('model', 'narrow'), 1), (('u', 'gener'), 1), (('neural', 'network'), 1), (('socio', 'demograph'), 1), (('year', 'natur'), 1), (('narrow', 'focu'), 1), (('increas', 'avail'), 1), (('demograph', 'inform'), 1), (('tool', 'everyonsocial'), 1), (('enabl', 'u'), 1), (('inform', 'express'), 1), (('new', 'rang'), 1), (('provid', 'fairer'), 1), (('increasingli', 'focus'), 1), (('ignor', 'social'), 1), (('part', 'due'), 1), (('make', 'natur'), 1), (('nlp', 'solv'), 1), (('bias', 'tool'), 1), (('express', 'neural'), 1), (('solv', 'whole'), 1), (('issu', 'argu'), 1), (('demograph', 'howev'), 1), (('due', 'histor'), 1), (('whole', 'new'), 1), (('histor', 'avail'), 1), (('combin', 'broaden'), 1), (('task', 'enabl'), 1)]\n",
      "\n",
      "BIGRAMS 2019\n",
      "[(('word', 'embed'), 5), (('social', 'bia'), 5), (('gender', 'bia'), 4), (('train', 'data'), 3), (('bia', 'word'), 2), (('train', 'corpu'), 2), (('prior', 'work'), 2), (('text', 'corpu'), 2), (('languag', 'process'), 2), (('bia', 'natur'), 2), (('propos', 'method'), 2), (('machin', 'translat'), 2), (('natur', 'languag'), 2), (('system', 'learn'), 2), (('model', 'train'), 2), (('reduc', 'gender'), 2), (('quantifi', 'bia'), 2), (('state', 'art'), 2), (('studi', 'propos'), 2), (('amplifi', 'social'), 2), (('neural', 'network'), 2), (('measur', 'bia'), 2), (('word', 'level'), 2), (('encod', 'train'), 2), (('implicit', 'bia'), 2), (('also', 'propos'), 1), (('embed', 'detect'), 1), (('network', 'biomed'), 1), (('bia', 'other'), 1), (('hypothesi', 'test'), 1), (('fill', 'gap'), 1), (('gap', 'also'), 1), (('set', 'word'), 1), (('biomed', 'gender'), 1), (('bia', 'gap'), 1), (('weat', 'bia'), 1), (('cluster', 'word'), 1), (('bia', 'howev'), 1), (('human', 'stereotyp'), 1), (('gap', 'find'), 1)]\n",
      "\n",
      "BIGRAMS 2020\n",
      "[(('social', 'bia'), 12), (('word', 'embed'), 8), (('gender', 'bia'), 7), (('train', 'data'), 5), (('mitig', 'bia'), 5), (('languag', 'process'), 4), (('machin', 'learn'), 4), (('natur', 'languag'), 4), (('real', 'world'), 4), (('bia', 'embed'), 3), (('e', 'g'), 3), (('social', 'scienc'), 3), (('bia', 'word'), 3), (('reduc', 'bia'), 3), (('model', 'train'), 3), (('wide', 'use'), 3), (('paper', 'propos'), 2), (('fine', 'grain'), 2), (('english', 'languag'), 2), (('dataset', 'use'), 2), (('propos', 'novel'), 2), (('publicli', 'avail'), 2), (('bia', 'sentenc'), 2), (('approach', 'detect'), 2), (('sentenc', 'level'), 2), (('subtl', 'bia'), 2), (('type', 'bia'), 2), (('bia', 'like'), 2), (('hope', 'work'), 2), (('bia', 'train'), 2), (('well', 'known'), 2), (('embed', 'exhibit'), 2), (('mitig', 'gender'), 2), (('hard', 'debia'), 2), (('analyz', 'bia'), 2), (('techniqu', 'mitig'), 2), (('mitig', 'method'), 2), (('social', 'stereotyp'), 2), (('result', 'suggest'), 2), (('perform', 'debias'), 2)]\n",
      "\n",
      "BIGRAMS 2021\n",
      "[(('social', 'bia'), 11), (('languag', 'model'), 8), (('gender', 'bia'), 6), (('bia', 'measur'), 5), (('social', 'group'), 4), (('pre', 'train'), 4), (('model', 'train'), 4), (('model', 'learn'), 4), (('method', 'use'), 3), (('demograph', 'group'), 3), (('fine', 'tune'), 3), (('word', 'embed'), 3), (('implicit', 'bia'), 3), (('e', 'g'), 3), (('case', 'studi'), 3), (('differ', 'social'), 3), (('gener', 'fair'), 2), (('train', 'languag'), 2), (('stereotyp', 'languag'), 2), (('fair', 'metric'), 2), (('detect', 'model'), 2), (('use', 'nlp'), 2), (('model', 'often'), 2), (('better', 'understand'), 2), (('differ', 'bia'), 2), (('gener', 'stori'), 2), (('bia', 'use'), 2), (('gender', 'stereotyp'), 2), (('unintend', 'social'), 2), (('paper', 'propos'), 2), (('across', 'differ'), 2), (('neural', 'model'), 2), (('gender', 'languag'), 2), (('machin', 'translat'), 2), (('translat', 'system'), 2), (('mitig', 'bia'), 2), (('w', 'ikipedia'), 2), (('bia', 'w'), 2), (('bia', 'exist'), 2), (('paper', 'investig'), 2)]\n",
      "\n",
      "BIGRAMS 2022\n",
      "[(('social', 'bia'), 6), (('languag', 'model'), 6), (('larg', 'languag'), 3), (('bia', 'evalu'), 3), (('languag', 'process'), 2), (('measur', 'social'), 2), (('bia', 'natur'), 2), (('gender', 'racial'), 2), (('natur', 'languag'), 2), (('task', 'paper'), 2), (('e', 'nglish'), 2), (('bia', 'larg'), 2), (('demograph', 'group'), 2), (('fine', 'tune'), 2), (('decreas', 'languag'), 2), (('mitig', 'bia'), 2), (('bia', 'pretrain'), 2), (('mask', 'languag'), 2), (('crow', 'pair'), 2), (('intrins', 'bia'), 2), (('pre', 'train'), 2), (('model', 'languag'), 2), (('set', 'design'), 1), (('mani', 'system'), 1), (('use', 'multilingu'), 1), (('societi', 'understood'), 1), (('design', 'measur'), 1), (('demonstr', 'statist'), 1), (('make', 'code'), 1), (('neg', 'impact'), 1), (('sentiment', 'analysi'), 1), (('four', 'multilingu'), 1), (('system', 'e'), 1), (('statist', 'signific'), 1), (('bia', 'novel'), 1), (('measur', 'gender'), 1), (('paper', 'introduc'), 1), (('task', 'english'), 1), (('issu', 'implement'), 1), (('english', 'spanish'), 1)]\n",
      "\n"
     ]
    }
   ],
   "source": [
    "# year and social bigrams\n",
    "\n",
    "print('MOST COMMON')\n",
    "print('BIGRAMS 2016')\n",
    "print(count_ngrams(df.loc[(df['social'] == True) & (df['year'] == 2016)], 2, [''], 0)[:40])\n",
    "print()\n",
    "print('BIGRAMS 2017')\n",
    "print(count_ngrams(df.loc[(df['social'] == True) & (df['year'] == 2017)], 2, [''], 0)[:40])\n",
    "print()\n",
    "print('BIGRAMS 2018')\n",
    "print(count_ngrams(df.loc[(df['social'] == True) & (df['year'] == 2018)], 2, [''], 0)[:40])\n",
    "print()\n",
    "print('BIGRAMS 2019')\n",
    "print(count_ngrams(df.loc[(df['social'] == True) & (df['year'] == 2019)], 2, [''], 0)[:40])\n",
    "print()\n",
    "print('BIGRAMS 2020')\n",
    "print(count_ngrams(df.loc[(df['social'] == True) & (df['year'] == 2020)], 2, [''], 0)[:40])\n",
    "print()\n",
    "print('BIGRAMS 2021')\n",
    "print(count_ngrams(df.loc[(df['social'] == True) & (df['year'] == 2021)], 2, [''], 0)[:40])\n",
    "print()\n",
    "print('BIGRAMS 2022')\n",
    "print(count_ngrams(df.loc[(df['social'] == True) & (df['year'] == 2022)], 2, [''], 0)[:40])\n",
    "print()"
   ]
  },
  {
   "cell_type": "code",
   "execution_count": 34,
   "id": "fbaa88ba",
   "metadata": {},
   "outputs": [],
   "source": [
    "# TODO \n",
    "# look at gender bias within social bias"
   ]
  },
  {
   "cell_type": "code",
   "execution_count": 35,
   "id": "86c4814e",
   "metadata": {},
   "outputs": [
    {
     "data": {
      "text/plain": [
       "'neutral'"
      ]
     },
     "execution_count": 35,
     "metadata": {},
     "output_type": "execute_result"
    }
   ],
   "source": [
    "PorterStemmer().stem('Neutralizing')"
   ]
  },
  {
   "cell_type": "markdown",
   "id": "4e46ae97",
   "metadata": {},
   "source": [
    "## type of research plots"
   ]
  },
  {
   "cell_type": "code",
   "execution_count": 36,
   "id": "7e4c0a5a",
   "metadata": {},
   "outputs": [],
   "source": [
    "verb_list = {'analysis': ['ass', 'assess', 'analyze', 'measur', 'discov', 'quantifi', 'understand', 'exploit', 'explor', 'examin', 'evalu', 'detect', 'investigat', 'summar', 'observ', 'provid'],\n",
    "             'debiasing': ['debias', 'demonstr', 'employ', 'introduc', 'investigate', 'mitigat', 'neutral', 'propose', 'reduc', 'remov', 'unbias']} # list of verbs to get insights about the type of research\n"
   ]
  },
  {
   "cell_type": "code",
   "execution_count": 37,
   "id": "9a99889c",
   "metadata": {},
   "outputs": [],
   "source": [
    "df['analysis'] = False\n",
    "df['debiasing'] = False"
   ]
  },
  {
   "cell_type": "code",
   "execution_count": 38,
   "id": "8e504d43",
   "metadata": {},
   "outputs": [],
   "source": [
    "def find_verb(verb, text):\n",
    "    \n",
    "    if issublist(text, [verb]):\n",
    "        return True\n",
    "    \n",
    "    return False"
   ]
  },
  {
   "cell_type": "code",
   "execution_count": 39,
   "id": "7c5f9184",
   "metadata": {},
   "outputs": [],
   "source": [
    "# ONE HOT ENCODING\n",
    "def one_hot_verb(this_df, verb_list=verb_list):\n",
    "    for key in verb_list.keys():\n",
    "        for i in verb_list[key]:\n",
    "            this_df[key] += this_df['cleaned_w_title'].str.split().apply(lambda x: find_verb(i, x))\n",
    "                        \n",
    "def add_not_spec_verb(this_df, verb_list=verb_list):\n",
    "    for key in verb_list.keys():\n",
    "        for i in verb_list[key]:\n",
    "            this_df.loc[(this_df[key] == True), 'no_spec'] = False\n",
    "        \n",
    "    this_df.loc[(this_df['no_spec'].isnull()), 'no_spec'] = True\n",
    "\n",
    "one_hot_verb(df)\n",
    "add_not_spec_verb(df)"
   ]
  },
  {
   "cell_type": "code",
   "execution_count": 40,
   "id": "b8df4b7b",
   "metadata": {
    "scrolled": true
   },
   "outputs": [
    {
     "name": "stdout",
     "output_type": "stream",
     "text": [
      "[True     255\n",
      "False     65\n",
      "Name: analysis, dtype: int64, True     189\n",
      "False    131\n",
      "Name: debiasing, dtype: int64, False    293\n",
      "True      27\n",
      "Name: no_spec, dtype: int64]\n"
     ]
    },
    {
     "data": {
      "image/png": "[encoded data removed]",
      "text/plain": [
       "<Figure size 360x360 with 1 Axes>"
      ]
     },
     "metadata": {},
     "output_type": "display_data"
    }
   ],
   "source": [
    "def plot_verb_count(this_df):\n",
    "    counts = []\n",
    "    for key in verb_list.keys():\n",
    "        counts.append(this_df[key].value_counts())\n",
    "    counts.append(this_df['no_spec'].value_counts())\n",
    "        \n",
    "    print(counts)\n",
    "        \n",
    "    df_counts = pd.concat(counts, axis=1).transpose()\n",
    "    df_counts.plot(kind='pie', y=True, figsize=(5, 5), colors=colors);\n",
    "    plt.legend(labels=['Analysis', 'Debiasing', 'None of Both'])\n",
    "    \n",
    "plot_verb_count(df)"
   ]
  },
  {
   "cell_type": "code",
   "execution_count": 43,
   "id": "c3b1e314",
   "metadata": {
    "scrolled": true
   },
   "outputs": [
    {
     "data": {
      "image/png": "[encoded data removed]",
      "text/plain": [
       "<Figure size 720x360 with 1 Axes>"
      ]
     },
     "metadata": {
      "needs_background": "light"
     },
     "output_type": "display_data"
    }
   ],
   "source": [
    "# bias per year\n",
    "def researchtype_per_year_plot(this_df, bias_list=bias_list):\n",
    "    \n",
    "    temp_df = pd.DataFrame()\n",
    "    \n",
    "    temp_df['analysis'] = pd.crosstab(this_df['analysis'],this_df['year']).loc[True]\n",
    "    temp_df['debiasing'] = pd.crosstab(this_df['debiasing'],this_df['year']).loc[True]\n",
    "    #temp_df['no_spec'] = pd.crosstab(this_df['no_spec'],this_df['year']).loc[True]\n",
    "            \n",
    "    #temp_df['not_specified'] = pd.crosstab(this_df['not_specified'],this_df['year']).loc[True]\n",
    "    #temp_df['not_specified'] = temp_df['not_specified'].astype('Int64')\n",
    "    \n",
    "    temp_df.plot(kind='bar', stacked=False, color=colors);\n",
    "    #plt.title('Paper per research type by year')\n",
    "    plt.legend(labels=['Analysis', 'Mitigation'])\n",
    "    #, bbox_to_anchor=(1.05, 1), loc='upper left', borderaxespad=0, fontsize=12\n",
    "    plt.ylabel(\"Number of Papers\", fontsize=14)\n",
    "    plt.xlabel('Year', fontsize=14)\n",
    "    plt.xticks(rotation=45, ha=\"right\")\n",
    "    plt.ylabel(\"Number of Paper\")\n",
    "    plt.grid(linestyle='--')\n",
    "    plt.savefig(\"type_of_research.png\", dpi=1200, bbox_inches='tight')\n",
    "    plt.show()\n",
    "    \n",
    "researchtype_per_year_plot(df)"
   ]
  },
  {
   "cell_type": "code",
   "execution_count": 42,
   "id": "21c14209",
   "metadata": {},
   "outputs": [
    {
     "name": "stdout",
     "output_type": "stream",
     "text": [
      "MOST COMMON\n",
      "UNIGRAMS\n",
      "[(('bia',), 22), (('model',), 19), (('languag',), 15), (('paper',), 14), (('show',), 12), (('propos',), 12), (('train',), 12), (('gender',), 11), (('system',), 11), (('use',), 11), (('studi',), 10), (('data',), 9), (('task',), 9), (('gener',), 9), (('base',), 9), (('analysi',), 9), (('also',), 8), (('find',), 8), (('work',), 8), (('learn',), 8), (('type',), 7), (('method',), 7), (('bias',), 7), (('machin',), 7), (('word',), 7), (('mani',), 7), (('differ',), 7), (('nlp',), 7), (('e',), 7), (('repres',), 7), (('dataset',), 7), (('develop',), 7), (('improv',), 6), (('perform',), 6), (('exist',), 6), (('approach',), 6), (('design',), 6), (('howev',), 6), (('translat',), 6), (('represent',), 6)]\n",
      "\n",
      "BIGRAMS\n",
      "[(('gender', 'bia'), 7), (('machin', 'translat'), 6), (('neural', 'machin'), 5), (('e', 'g'), 5), (('gender', 'balanc'), 4), (('train', 'data'), 4), (('make', 'model'), 3), (('paper', 'analyz'), 3), (('bia', 'use'), 3), (('languag', 'model'), 3), (('paper', 'propos'), 3), (('model', 'learn'), 3), (('pre', 'train'), 3), (('natur', 'languag'), 3), (('word', 'embed'), 3), (('data', 'augment'), 2), (('augment', 'method'), 2), (('among', 'exist'), 2), (('grammat', 'gender'), 2), (('nmt', 'system'), 2), (('mitig', 'bia'), 2), (('translat', 'nmt'), 2), (('gener', 'stori'), 2), (('social', 'bia'), 2), (('nlp', 'applic'), 2), (('translat', 'system'), 2), (('nlp', 'paper'), 2), (('base', 'neural'), 2), (('word', 'type'), 2), (('bia', 'train'), 2), (('train', 'languag'), 2), (('work', 'studi'), 2), (('studi', 'gender'), 2), (('question', 'answer'), 2), (('lingual', 'transfer'), 2), (('state', 'art'), 2), (('across', 'languag'), 2), (('cross', 'lingual'), 2), (('mitig', 'strategi'), 2), (('propos', 'set'), 2)]\n",
      "\n",
      "TRIGRAMS\n",
      "[(('neural', 'machin', 'translat'), 5), (('data', 'augment', 'method'), 2), (('machin', 'translat', 'nmt'), 2), (('base', 'neural', 'machin'), 2), (('machin', 'translat', 'system'), 2), (('pre', 'train', 'languag'), 2), (('train', 'languag', 'model'), 2), (('cross', 'lingual', 'transfer'), 2), (('natur', 'languag', 'process'), 2), (('mitig', 'gender', 'bia'), 2), (('improv', 'translat', 'qualiti'), 2), (('user', 'gener', 'content'), 2), (('e', 'g', 'gender'), 2), (('method', 'improv', 'perform'), 1), (('experi', 'show', 'method'), 1), (('elimin', 'confound', 'accord'), 1), (('confound', 'entiti', 'order'), 1), (('confound', 'furthermor', 'design'), 1), (('appli', 'ner', 'optim'), 1), (('model', 'uniformli', 'adapt'), 1), (('consist', 'task', 'make'), 1), (('entiti', 'appear', 'sentenc'), 1), (('adapt', 'three', 'subtask'), 1), (('three', 'subtask', 'name'), 1), (('unifi', 'ner', 'task'), 1), (('analyz', 'incorrect', 'bia'), 1), (('process', 'causal', 'perspect'), 1), (('nest', 'ner', 'discontinu'), 1), (('ner', 'model', 'variou'), 1), (('design', 'intra', 'inter'), 1), (('three', 'subtask', 'howev'), 1), (('name', 'flat', 'ner'), 1), (('entiti', 'order', 'confound'), 1), (('improv', 'perform', 'gener'), 1), (('show', 'method', 'improv'), 1), (('exist', 'approach', 'gener'), 1), (('bia', 'gener', 'process'), 1), (('ner', 'nest', 'ner'), 1), (('theori', 'backdoor', 'adjust'), 1), (('task', 'make', 'model'), 1)]\n",
      "\n",
      "BIGRAMS 2016\n",
      "[(('context', 'bia'), 1), (('competit', 'baselindiffer'), 1), (('embed', 'local'), 1), (('analog', 'task'), 1), (('nlp', 'applic'), 1), (('polysemi', 'differ'), 1), (('without', 'consid'), 1), (('embed', 'also'), 1), (('represent', 'learn'), 1), (('consid', 'polysemi'), 1), (('sentiment', 'analysi'), 1), (('lead', 'differ'), 1), (('instead', 'train'), 1), (('make', 'embed'), 1), (('propos', 'method'), 1), (('learn', 'word'), 1), (('bia', 'instead'), 1), (('differ', 'word'), 1), (('qualiti', 'embed'), 1), (('task', 'show'), 1), (('question', 'answer'), 1), (('singl', 'vector'), 1), (('assum', 'singl'), 1), (('semant', 'center'), 1), (('experiment', 'result'), 1), (('differ', 'relat'), 1), (('homonymi', 'paper'), 1), (('model', 'assum'), 1), (('success', 'mani'), 1), (('word', 'represent'), 1), (('embed', 'per'), 1), (('relat', 'work'), 1), (('defin', 'weight'), 1), (('differ', 'context'), 1), (('improv', 'qualiti'), 1), (('per', 'word'), 1), (('learn', 'propos'), 1), (('learn', 'one'), 1), (('also', 'make'), 1), (('embed', 'one'), 1)]\n",
      "\n",
      "BIGRAMS 2017\n",
      "[(('listen', 'abl'), 1), (('learn', 'particip'), 1), (('popul', 'repres'), 1), (('strong', 'bia'), 1), (('robustli', 'adapt'), 1), (('classifi', 'train'), 1), (('automat', 'speech'), 1), (('listen', 'retain'), 1), (('train', 'dataoh'), 1), (('particip', 'behaviour'), 1), (('result', 'automat'), 1), (('base', 'dialect'), 1), (('speaker', 'popul'), 1), (('dataoh', 'heard'), 1), (('may', 'result'), 1), (('adapt', 'new'), 1), (('even', 'consid'), 1), (('toward', 'acoust'), 1), (('new', 'accent'), 1), (('dialect', 'dialect'), 1), (('evid', 'even'), 1), (('fewer', 'target'), 1), (('learn', 'weight'), 1), (('paper', 'present'), 1), (('present', 'experiment'), 1), (('case', 'base'), 1), (('behaviour', 'accur'), 1), (('data', 'may'), 1), (('target', 'dialect'), 1), (('recognit', 'error'), 1), (('acoust', 'dialect'), 1), (('heard', 'model'), 1), (('accur', 'mimick'), 1), (('quickli', 'robustli'), 1), (('experiment', 'evid'), 1), (('ident', 'listen'), 1), (('speaker', 'ident'), 1), (('repres', 'train'), 1), (('speech', 'recognit'), 1), (('retain', 'strong'), 1)]\n",
      "\n",
      "BIGRAMS 2018\n",
      "[(('closer', 'emoji'), 1), (('word', 'emoji'), 1), (('use', 'emoji'), 1), (('reveal', 'stereotyp'), 1), (('relat', 'busi'), 1), (('hand', 'gestur'), 1), (('tone', 'differ'), 1), (('emoji', 'social'), 1), (('carri', 'semant'), 1), (('semant', 'witter'), 1), (('million', 'tweet'), 1), (('medium', 'respect'), 1), (('analysi', 'reveal'), 1), (('use', 'modifi'), 1), (('seem', 'reflect'), 1), (('tone', 'modifi'), 1), (('gender', 'seem'), 1), (('counterpart', 'appear'), 1), (('vector', 'space'), 1), (('unit', 'state'), 1), (('twenti', 'two'), 1), (('dataset', 'twenti'), 1), (('repres', 'hand'), 1), (('clearli', 'highlight'), 1), (('appear', 'closer'), 1), (('g', 'gender'), 1), (('usag', 'emoji'), 1), (('modifi', 'affect'), 1), (('analysi', 'moreov'), 1), (('emoji', 'modifi'), 1), (('modifi', 'vector'), 1), (('find', 'clearli'), 1), (('paper', 'analyz'), 1), (('moreov', 'carri'), 1), (('color', 'gender'), 1), (('tone', 'usag'), 1), (('male', 'modifi'), 1), (('skin', 'tone'), 1), (('two', 'million'), 1), (('embed', 'word'), 1)]\n",
      "\n",
      "BIGRAMS 2019\n",
      "[(('word', 'embed'), 2), (('e', 'g'), 2), (('le', 'bias'), 1), (('bias', 'encycloped'), 1), (('bia', 'reduct'), 1), (('mani', 'pronounc'), 1), (('bia', 'e'), 1), (('consist', 'bia'), 1), (('societ', 'bia'), 1), (('embed', 'space'), 1), (('gener', 'content'), 1), (('distribut', 'word'), 1), (('space', 'analyz'), 1), (('like', 'embed'), 1), (('lingual', 'transfer'), 1), (('indic', 'effect'), 1), (('type', 'text'), 1), (('bias', 'distribut'), 1), (('bilingu', 'embed'), 1), (('bia', 'encod'), 1), (('differ', 'languag'), 1), (('encod', 'distribut'), 1), (('studi', 'bia'), 1), (('across', 'languag'), 1), (('racial', 'bia'), 1), (('model', 'type'), 1), (('vector', 'space'), 1), (('user', 'gener'), 1), (('develop', 'bia'), 1), (('multidimension', 'analysi'), 1), (('text', 'hope'), 1), (('studi', 'yield'), 1), (('bia', 'racial'), 1), (('bia', 'research'), 1), (('lingual', 'bia'), 1), (('g', 'gender'), 1), (('pronounc', 'societ'), 1), (('work', 'present'), 1), (('bia', 'emphas'), 1), (('cross', 'lingual'), 1)]\n",
      "\n",
      "BIGRAMS 2020\n",
      "[(('gender', 'balanc'), 3), (('machin', 'translat'), 3), (('gender', 'bia'), 3), (('natur', 'languag'), 2), (('mitig', 'gender'), 2), (('bia', 'mitig'), 2), (('neural', 'machin'), 2), (('translat', 'model'), 2), (('recommend', 'system'), 2), (('artifici', 'intellig'), 2), (('model', 'ad'), 1), (('document', 'level'), 1), (('impact', 'mani'), 1), (('implement', 'decod'), 1), (('motiv', 'behind'), 1), (('applic', 'includ'), 1), (('languag', 'process'), 1), (('propos', 'mt'), 1), (('translat', 'mt'), 1), (('ad', 'contextu'), 1), (('studi', 'whether'), 1), (('decod', 'base'), 1), (('attenu', 'bia'), 1), (('bleu', 'point'), 1), (('process', 'applic'), 1), (('data', 'studi'), 1), (('inform', 'implement'), 1), (('speaker', 'inform'), 1), (('translat', 'qualiti'), 1), (('sentenc', 'speaker'), 1), (('neg', 'impact'), 1), (('mt', 'system'), 1), (('bia', 'decod'), 1), (('significantli', 'contribut'), 1), (('approach', 'ad'), 1), (('work', 'studi'), 1), (('whether', 'recent'), 1), (('show', 'improv'), 1), (('contextu', 'inform'), 1), (('improv', 'translat'), 1)]\n",
      "\n",
      "BIGRAMS 2021\n",
      "[(('gener', 'stori'), 2), (('social', 'bia'), 2), (('bia', 'use'), 2), (('languag', 'model'), 2), (('nlp', 'paper'), 2), (('train', 'data'), 2), (('gender', 'bia'), 2), (('model', 'learn'), 2), (('pre', 'train'), 2), (('nlp', 'system'), 2), (('stereotyp', 'gener'), 1), (('similar', 'find'), 1), (('model', 'lexicon'), 1), (('appear', 'describ'), 1), (('question', 'one'), 1), (('mani', 'known'), 1), (('studi', 'rais'), 1), (('gender', 'charact'), 1), (('feminin', 'charact'), 1), (('like', 'associ'), 1), (('power', 'verb'), 1), (('prompt', 'studi'), 1), (('known', 'gender'), 1), (('famili', 'appear'), 1), (('word', 'similar'), 1), (('charact', 'prompt'), 1), (('gpt', 'perceiv'), 1), (('associ', 'high'), 1), (('represent', 'bia'), 1), (('gpt', 'gener'), 1), (('associ', 'famili'), 1), (('stori', 'depict'), 1), (('perceiv', 'gender'), 1), (('prompt', 'feminin'), 1), (('describ', 'le'), 1), (('one', 'avoid'), 1), (('differ', 'topic'), 1), (('exhibit', 'mani'), 1), (('charact', 'like'), 1), (('larg', 'languag'), 1)]\n",
      "\n",
      "BIGRAMS 2022\n",
      "[(('data', 'augment'), 2), (('augment', 'method'), 2), (('given', 'sentenc'), 1), (('model', 'vulner'), 1), (('entiti', 'given'), 1), (('three', 'subtask'), 1), (('ner', 'nest'), 1), (('accord', 'theori'), 1), (('analyz', 'incorrect'), 1), (('method', 'elimin'), 1), (('depend', 'entiti'), 1), (('gener', 'extract'), 1), (('ner', 'optim'), 1), (('vulner', 'incorrect'), 1), (('howev', 'gener'), 1), (('furthermor', 'design'), 1), (('confound', 'accord'), 1), (('fundament', 'task'), 1), (('order', 'confound'), 1), (('gener', 'ner'), 1), (('discontinu', 'ner'), 1), (('adjust', 'experi'), 1), (('bia', 'paper'), 1), (('attribut', 'two'), 1), (('appear', 'sentenc'), 1), (('perspect', 'attribut'), 1), (('ner', 'fundament'), 1), (('exist', 'approach'), 1), (('consist', 'task'), 1), (('ner', 'among'), 1), (('gener', 'process'), 1), (('confound', 'furthermor'), 1), (('specif', 'type'), 1), (('datasetde', 'bia'), 1), (('recognit', 'ner'), 1), (('causal', 'perspect'), 1), (('method', 'improv'), 1), (('optim', 'object'), 1), (('make', 'model'), 1), (('task', 'make'), 1)]\n",
      "\n"
     ]
    }
   ],
   "source": [
    "# BIGRAMS about no_spec column per year\n",
    "\n",
    "print('MOST COMMON')\n",
    "print('UNIGRAMS')\n",
    "print(count_ngrams(df.loc[(df['no_spec'] == True)], 1, [''], 0)[:40])\n",
    "print()\n",
    "print('BIGRAMS')\n",
    "print(count_ngrams(df.loc[(df['no_spec'] == True)], 2, [''], 0)[:40])\n",
    "print()\n",
    "print('TRIGRAMS')\n",
    "print(count_ngrams(df.loc[(df['no_spec'] == True)], 3, [''], 0)[:40])\n",
    "print()\n",
    "\n",
    "print('BIGRAMS 2016')\n",
    "print(count_ngrams(df.loc[(df['no_spec'] == True) & (df['year'] == 2016)], 2, [''], 0)[:40])\n",
    "print()\n",
    "print('BIGRAMS 2017')\n",
    "print(count_ngrams(df.loc[(df['no_spec'] == True) & (df['year'] == 2017)], 2, [''], 0)[:40])\n",
    "print()\n",
    "print('BIGRAMS 2018')\n",
    "print(count_ngrams(df.loc[(df['no_spec'] == True) & (df['year'] == 2018)], 2, [''], 0)[:40])\n",
    "print()\n",
    "print('BIGRAMS 2019')\n",
    "print(count_ngrams(df.loc[(df['no_spec'] == True) & (df['year'] == 2019)], 2, [''], 0)[:40])\n",
    "print()\n",
    "print('BIGRAMS 2020')\n",
    "print(count_ngrams(df.loc[(df['no_spec'] == True) & (df['year'] == 2020)], 2, [''], 0)[:40])\n",
    "print()\n",
    "print('BIGRAMS 2021')\n",
    "print(count_ngrams(df.loc[(df['no_spec'] == True) & (df['year'] == 2021)], 2, [''], 0)[:40])\n",
    "print()\n",
    "print('BIGRAMS 2022')\n",
    "print(count_ngrams(df.loc[(df['no_spec'] == True) & (df['year'] == 2022)], 2, [''], 0)[:40])\n",
    "print()"
   ]
  },
  {
   "cell_type": "markdown",
   "id": "b66f991d",
   "metadata": {},
   "source": [
    "## type of task plots"
   ]
  },
  {
   "cell_type": "code",
   "execution_count": null,
   "id": "5861bde2",
   "metadata": {
    "scrolled": false
   },
   "outputs": [],
   "source": [
    "PorterStemmer().stem('disambiguation')"
   ]
  },
  {
   "cell_type": "code",
   "execution_count": null,
   "id": "3fef58d2",
   "metadata": {},
   "outputs": [],
   "source": [
    "task_list = [['stereotyp', 'assess'], ['assess', 'bia'], ['speech','recognit'], ['languag', 'gener'], \n",
    "             ['machin','translat'], ['corefer','resolut'], ['role','label'],\n",
    "             ['hate','speech', 'detect'], ['word','embed'], ['imag','caption'], ['question','answer'],\n",
    "             ['name','entiti','recognit'], ['sentiment','analysi'], ['text', 'classif'], ['automat', 'detect'], \n",
    "             ['bia', 'detect'], ['gener', 'corpu'], ['text', 'gener'], ['event', 'understand'], ['sens', 'disambigu']]\n",
    "\n",
    "task_label_list = ['Bias Assessment in Data', 'Speech Recognition', 'Language Generation', 'Machine Translation', \n",
    "                   'Coreference Resolution', 'Role Labeling',\n",
    "             'Hate Speech Detection', 'Word Embedding', 'Multimodal Tasks', 'Question Answering',\n",
    "             'Named Entity Recognition', 'Sentiment Analysis', 'Text Classification',\n",
    "             'Corpus Generation', 'Word Sense Disambiguation']\n",
    "\n",
    "general_list = ['evalu', 'dialogu', 'chatbot', 'summar', 'model']\n",
    "\n",
    "general_label_list = ['Higher-level Evaluation', 'Dialogue/Chatbots', \n",
    "                      'Summarization', 'Other LLM Tasks']\n"
   ]
  },
  {
   "cell_type": "code",
   "execution_count": null,
   "id": "0c0a97eb",
   "metadata": {},
   "outputs": [],
   "source": [
    "def find_task(task, text):\n",
    "    \n",
    "    if not isinstance(task, list):\n",
    "        if task in text:\n",
    "            return True\n",
    "    \n",
    "    if task == ['bia', 'reduc']:\n",
    "        if (issublist(text, [task[1], task[0]]) or issublist(text, [task[0], task[1]])):\n",
    "            return True\n",
    "        return False\n",
    "    \n",
    "    if task == ['word','embed']:\n",
    "        if issublist(text, [task[1]]):\n",
    "            return True\n",
    "\n",
    "    if issublist(text, task):\n",
    "        return True\n",
    "    \n",
    "    return False"
   ]
  },
  {
   "cell_type": "code",
   "execution_count": null,
   "id": "9e82623c",
   "metadata": {},
   "outputs": [],
   "source": [
    "# ONE HOT ENCODING\n",
    "def one_hot_task(this_df, task_list=task_list):\n",
    "    for i in task_list:\n",
    "        df[i[1]] = df['cleaned_w_title'].str.split().apply(lambda x: find_task(i, x))\n",
    "        df.loc[(df[i[1]] == True), 'no_task'] = False\n",
    "        \n",
    "    for i in df['manual'].unique():\n",
    "        if not pd.isnull(i):\n",
    "            if not ',' in i:\n",
    "                idx = df.index[df['manual'] == i].tolist()\n",
    "                df.loc[idx, i] = True \n",
    "            else:\n",
    "                for j in i.split(', '):\n",
    "                    idx = df.index[df['manual'] == i].tolist()\n",
    "                    df.loc[idx, j] = True \n",
    "        \n",
    "    this_df['assess'] += this_df['bia'] + this_df['detect']\n",
    "    this_df = this_df.drop(['bia'], axis=1)\n",
    "    this_df['entiti'] += this_df['understand']\n",
    "    this_df = this_df.drop(['understand'], axis=1)\n",
    "    \n",
    "    idx = df.index[pd.isnull(df['no_task'].tolist())]\n",
    "    df.loc[idx, 'no_task'] = True\n",
    "                        \n",
    "    for idx, row in df[(df['no_task'] == True)].iterrows():  \n",
    "        \n",
    "        for i in general_list[:-1]:\n",
    "            \n",
    "            if find_task(i, row['cleaned_w_title'].split()):\n",
    "                \n",
    "                df.loc[idx, 'no_task'] = False\n",
    "                    \n",
    "                if i == 'dialogu' or i == 'chatbot':\n",
    "                    df.loc[idx, 'dialogu'] = True\n",
    "                    \n",
    "                else:\n",
    "                    df.loc[idx, i] = True \n",
    "                                \n",
    "    for idx, row in df[(df['no_task'] == True)].iterrows():      \n",
    "        if find_task('model', row['cleaned_w_title'].split()):\n",
    "            df.loc[idx, 'model'] = True\n",
    "            df.loc[idx, 'no_task'] = False\n",
    "\n",
    "one_hot_task(df)"
   ]
  },
  {
   "cell_type": "code",
   "execution_count": null,
   "id": "07be02ab",
   "metadata": {},
   "outputs": [],
   "source": [
    "task_list.remove(['assess', 'bia'])\n",
    "task_list.remove(['automat', 'detect'])\n",
    "task_list.remove(['text', 'gener'])\n",
    "task_list.remove(['bia', 'detect'])\n",
    "task_list.remove(['event', 'understand'])\n",
    "general_list.remove('chatbot')"
   ]
  },
  {
   "cell_type": "code",
   "execution_count": null,
   "id": "dea200e1",
   "metadata": {
    "scrolled": true
   },
   "outputs": [],
   "source": [
    "def plot_task_count(this_df):\n",
    "    counts = []\n",
    "    for i in task_list:\n",
    "        counts.append(this_df[i[1]].value_counts())\n",
    "        \n",
    "    for i in general_list:\n",
    "        counts.append(this_df[i].value_counts())\n",
    "        \n",
    "    counts.append(this_df['no_task'].value_counts())\n",
    "        \n",
    "    print(counts)\n",
    "    print(task_label_list+general_label_list+['None of those'])\n",
    "        \n",
    "    df_counts = pd.concat(counts, axis=1).transpose()\n",
    "    df_counts.plot(kind='pie', y=True, figsize=(5, 5), colors=colors, labels=None);\n",
    "    pylab.ylabel('')\n",
    "    plt.legend(task_label_list+general_label_list+['None of those'], bbox_to_anchor=(1.05, 1), loc='upper left', borderaxespad=0)\n",
    "    \n",
    "plot_task_count(df)"
   ]
  },
  {
   "cell_type": "code",
   "execution_count": null,
   "id": "377c1f8b",
   "metadata": {
    "scrolled": true
   },
   "outputs": [],
   "source": [
    "# bias per year\n",
    "def task_per_year_plot(this_df, this_task_list=task_list):\n",
    "    \n",
    "    temp_df = pd.DataFrame()\n",
    "    this_task_label_list = task_label_list.copy() + general_label_list.copy()\n",
    "    count_dels = 0\n",
    "    \n",
    "    for idx, val in enumerate(this_task_list):\n",
    "        if this_df[val[1]].any():\n",
    "            temp_df[val[1]] = pd.crosstab(this_df[val[1]],this_df['year']).loc[True]\n",
    "        else:\n",
    "            del this_task_label_list[idx-count_dels]\n",
    "            count_dels += 1\n",
    "            \n",
    "    for idx, val in enumerate(general_list):\n",
    "        if this_df[val].any():\n",
    "            temp_df[val] = pd.crosstab(this_df[val],this_df['year']).loc[True]\n",
    "        else:\n",
    "            del this_task_label_list[idx-count_dels]\n",
    "            count_dels += 1   \n",
    "            \n",
    "    temp_df['not_specified'] = pd.crosstab(this_df['no_task'],this_df['year']).loc[True]    \n",
    "    \n",
    "    temp_df.plot(kind='bar', stacked=False, color=colors, width=0.7, figsize=(10,5));\n",
    "    #plt.title('Paper per NLP task by year')\n",
    "    plt.legend(labels=this_task_label_list+['None of those'], bbox_to_anchor=(1.05, 1), loc='upper left', borderaxespad=0, fontsize=9)\n",
    "    plt.ylabel(\"Number of Papers\", fontsize=14)\n",
    "    plt.xlabel('Year', fontsize=14)\n",
    "    plt.xticks(rotation=45, ha=\"right\")\n",
    "    plt.grid(linestyle='--')\n",
    "    plt.savefig(\"task_count.png\", dpi=1200, bbox_inches='tight')\n",
    "    plt.show()\n",
    "    \n",
    "    return this_task_label_list\n",
    "    \n",
    "over_general_task_label_list = task_per_year_plot(df)"
   ]
  },
  {
   "cell_type": "code",
   "execution_count": null,
   "id": "c676663e",
   "metadata": {
    "scrolled": true
   },
   "outputs": [],
   "source": [
    "print('MOST COMMON')\n",
    "print('BIGRAMS general')\n",
    "print(count_ngrams(df.loc[(df['no_task'] == True)], 2, [''], 0)[:60])\n",
    "print()\n",
    "print('MOST COMMON')\n",
    "print('BIGRAMS 2016')\n",
    "print(count_ngrams(df.loc[(df['no_task'] == True) & (df['year'] == 2016)], 2, [''], 0)[:40])\n",
    "print()\n",
    "print('BIGRAMS 2017')\n",
    "print(count_ngrams(df.loc[(df['no_task'] == True) & (df['year'] == 2017)], 2, [''], 0)[:40])\n",
    "print()\n",
    "print('BIGRAMS 2018')\n",
    "print(count_ngrams(df.loc[(df['no_task'] == True) & (df['year'] == 2018)], 2, [''], 0)[:40])\n",
    "print()\n",
    "print('BIGRAMS 2019')\n",
    "print(count_ngrams(df.loc[(df['no_task'] == True) & (df['year'] == 2019)], 2, [''], 0)[:40])\n",
    "print()\n",
    "print('BIGRAMS 2020')\n",
    "print(count_ngrams(df.loc[(df['no_task'] == True) & (df['year'] == 2020)], 2, [''], 0)[:40])\n",
    "print()\n",
    "print('BIGRAMS 2021')\n",
    "print(count_ngrams(df.loc[(df['no_task'] == True) & (df['year'] == 2021)], 2, [''], 0)[:40])\n",
    "print()\n",
    "print('BIGRAMS 2022')\n",
    "print(count_ngrams(df.loc[(df['no_task'] == True) & (df['year'] == 2022)], 2, [''], 0)[:40])\n",
    "print()"
   ]
  },
  {
   "cell_type": "code",
   "execution_count": null,
   "id": "27f0cfbe",
   "metadata": {},
   "outputs": [],
   "source": [
    "df.to_csv('bias_paper_edited.csv')"
   ]
  },
  {
   "cell_type": "code",
   "execution_count": null,
   "id": "feec0d8e",
   "metadata": {},
   "outputs": [],
   "source": [
    "workshop_list = ['Workshop on Gender Bias in Natural Language Processing', \n",
    "                    'Workshop on Language Technology for Equality, Diversity and Inclusion',\n",
    "                    'Workshop on Trustworthy Natural Language Processing', \n",
    "                    'Workshop on Ethics in Natural Language Processing',\n",
    "                    'Workshop on Innovative Use of NLP for Building Educational Applications', \n",
    "                    'Workshop on Resources and Techniques for User and Author Profiling in Abusive Language',\n",
    "                    \"Workshop on Computational Modeling of People{'}s Opinions, Personality, and Emotions in Social Media\",\n",
    "                    'Workshop on New Frontiers in Summarization', \n",
    "                    'Workshop on Insights from Negative Results in NLP',\n",
    "                    'Workshop on Abusive Language Online', \n",
    "                    'Widening Natural Language Processing Workshop',\n",
    "                    'Workshop on Computational Linguistics for Cultural Heritage, Social Sciences, Humanities and Literature', \n",
    "                    'Workshop of the Australasian Language Technology Association', \n",
    "                    'Workshop on Noisy User-generated Text',\n",
    "                    'Workshop on Computational Linguistics and Clinical Psychology: Improving Access',\n",
    "                    'Workshop on Figurative Language Processing', \n",
    "                    'Workshop on Online Abuse and Harms',\n",
    "                    'Workshop on Natural Language Processing and Computational Social Science', \n",
    "                    'Workshop on Causal Inference and NLP', \n",
    "                    'Workshop on Bridging Human{--}Computer Interaction and Natural Language Processing', \n",
    "                    'Joint Workshop on Narrative Understanding, Storylines, and Events', \n",
    "                    'Workshop on {NLP} for Similar Languages, Varieties and Dialects', \n",
    "                    'Workshop on the Use of Computational Methods in the Study of Endangered Languages',\n",
    "                    'Arabic Natural Language Processing Workshop', \n",
    "                    'Workshop on Computational Approaches to Subjectivity, Sentiment and Social Media Analysis',\n",
    "                    'International Workshop on Natural Language Processing for Social Media',\n",
    "                    'Workshop on {C}hinese Language Processing'\n",
    "                    'Workshop on Cognitive Modeling and Computational Linguistics',\n",
    "                    'Workshop on Argument Mining',\n",
    "                    'Workshop on NLP for Conversational AI',\n",
    "                    'Workshop on Computational Approaches to Historical Language Change',\n",
    "                    'Workshop on NLP for Internet Freedom: Censorship, Disinformation, and Propaganda',\n",
    "                    'Clinical Natural Language Processing Workshop',\n",
    "                    'Workshop on Deep Learning Approaches for Low-Resource NLP',\n",
    "                    'Workshop on Widening NLP',\n",
    "                    'Student Research Workshop',\n",
    "                    'Natural Language Processing meets Journalism',\n",
    "                    'Workshop on Evaluating NLG Evaluation',\n",
    "                    'Workshop on Benchmarking',\n",
    "                    'Workshop on Computational Approaches to Historical Language Change',\n",
    "                    'Workshop on Biomedical Language Processing',\n",
    "                    'Workshop on e-Commerce and NLP',\n",
    "                    'Workshop for NLP Open Source Software',\n",
    "                    'Workshop on Challenges {\\&} Perspectives in Creating Large Language Models',\n",
    "                    'Workshop on Speech and Language Processing for Assistive Technologies',\n",
    "                    'Workshop on Interactive Natural Language Technology for Explainable Artificial Intelligence']\n",
    "    \n",
    "conference_list = ['Conferences of the Association for Machine Translation in the Americas',\n",
    "                      'ACL', 'EMNLP', 'Language Resources and Evaluation Conference', \n",
    "                      'International Conference on Natural Language Generation', \n",
    "                      'Conference of the {E}uropean Chapter of the Association for Computational Linguistics',\n",
    "                      'Conference of the European Chapter of the Association for Computational Linguistics',\n",
    "                      'Conference of the Asia-Pacific Chapter of the Association for Computational Linguistics',\n",
    "                      'Conference on Empirical Methods in Natural Language Processing',\n",
    "                      'North {A}merican Chapter of the Association for Computational Linguistics',\n",
    "                      'Conference of the North American Chapter of the Association for Computational Linguistics',\n",
    "                      'Nordic Conference on Computational Linguistics',\n",
    "                      'Annual Conference of the European Association for Machine Translation',\n",
    "                      'CoNLL', 'Conference on Computational Natural Language Learning',\n",
    "                      'International Conference on Computational Linguistics',\n",
    "                      'Annual Meeting of the Association for Computational Linguistics',\n",
    "                      'International Joint Conference on Natural Language Processing',\n",
    "                      'Joint Conference on Lexical and Computational Semantics',\n",
    "                      'Conference on Machine Translation',\n",
    "                      'International Conference on Recent Advances in Natural Language Processing',\n",
    "                      'Joint Conference on Lexical and Computational Semantics',\n",
    "                      'International Conference on Language Resources and Evaluation',\n",
    "                      'International Conference on Computational Linguistics']\n",
    "    \n",
    "others_list = ['Linguistic Issues in Language Technology', \n",
    "               'Annual Meeting of the Special Interest Group on Discourse and Dialogue']"
   ]
  },
  {
   "cell_type": "code",
   "execution_count": null,
   "id": "15789c2e",
   "metadata": {},
   "outputs": [],
   "source": [
    "# ONE HOT ENCODING\n",
    "def one_hot_venue(this_df):\n",
    "    \n",
    "    this_df['booktitle'] = this_df['booktitle'].fillna('0')\n",
    "    this_df['workshop'] = this_df['booktitle'].str.contains('|'.join(workshop_list))\n",
    "    this_df['conference'] = this_df['booktitle'].str.contains('|'.join(conference_list))\n",
    "    this_df['other'] = this_df['booktitle'].str.contains('|'.join(others_list))\n",
    "    \n",
    "one_hot_venue(df)"
   ]
  },
  {
   "cell_type": "code",
   "execution_count": null,
   "id": "c0a6b364",
   "metadata": {},
   "outputs": [],
   "source": [
    "venues = {}\n",
    "\n",
    "for idx, title in df['booktitle'].items():\n",
    "        \n",
    "    for venue in workshop_list + conference_list + others_list:\n",
    "        \n",
    "        if title == '':\n",
    "            continue\n",
    "            \n",
    "        if venue in title:\n",
    "            if venue == 'ACL':\n",
    "                venue = 'Annual Meeting of the Association for Computational Linguistics'\n",
    "                \n",
    "            if venue == 'EMNLP':\n",
    "                venue = 'Conference on Empirical Methods in Natural Language Processing' \n",
    "                \n",
    "            if venue == 'Conference of the {E}uropean Chapter of the Association for Computational Linguistics':\n",
    "                venue = 'Conference of the European Chapter of the Association for Computational Linguistics'\n",
    "                \n",
    "            if venue == 'CoNLL':\n",
    "                venue = 'Conference on Computational Natural Language Learning'\n",
    "                \n",
    "            if venue == 'North {A}merican Chapter of the Association for Computational Linguistics':\n",
    "                venue = 'Conference of the North American Chapter of the Association for Computational Linguistics'\n",
    "                \n",
    "            if venue == 'International Conference on Language Resources and Evaluation':\n",
    "                venue = 'Language Resources and Evaluation Conference'\n",
    "                \n",
    "            if venue == 'Widening Natural Language Processing Workshop':\n",
    "                venue = 'Workshop on Widening NLP'\n",
    "            \n",
    "            if venue in venues.keys():\n",
    "                venues[venue] += 1\n",
    "            else:\n",
    "                venues[venue] = 1\n",
    "        "
   ]
  },
  {
   "cell_type": "code",
   "execution_count": null,
   "id": "e45e136e",
   "metadata": {},
   "outputs": [],
   "source": [
    "d_descending = sorted(venues.items(), key=lambda kv: kv[1], reverse=True)\n",
    "counter = 1\n",
    "for item in d_descending:\n",
    "    print(str(counter) + '. ' + str(item[0]) + ' & ' + str(item[1]) + '\\\\\\\\')\n",
    "    counter += 1\n",
    "pprint.PrettyPrinter(indent=4).pprint(d_descending)"
   ]
  },
  {
   "cell_type": "code",
   "execution_count": null,
   "id": "9e8457ff",
   "metadata": {},
   "outputs": [],
   "source": [
    "# bias per year\n",
    "def venue_per_year_plot(this_df, task_list=task_list):\n",
    "    \n",
    "    temp_df = pd.DataFrame()\n",
    "    temp_df['Workshop'] = pd.crosstab(this_df['workshop'],this_df['year']).loc[True]\n",
    "    temp_df['Conference'] = pd.crosstab(this_df['conference'],this_df['year']).loc[True]\n",
    "    #temp_df['Other'] = pd.crosstab(this_df['other'],this_df['year']).loc[True]\n",
    "        \n",
    "    #temp_df['not_specified'] = pd.crosstab(this_df['not_specified'],this_df['year']).loc[True]\n",
    "    #temp_df['not_specified'] = temp_df['not_specified'].astype('Int64')\n",
    "    \n",
    "    temp_df.plot(kind='bar', stacked=False, color=colors);\n",
    "    #plt.title('Paper per venue type by year')\n",
    "    #plt.legend(bbox_to_anchor=(1.05, 1), loc='upper left', borderaxespad=0, fontsize=10)\n",
    "    plt.ylabel(\"Number of Papers\", fontsize=14)\n",
    "    plt.xlabel('Year', fontsize=14)\n",
    "    plt.xticks(rotation=45, ha=\"right\")\n",
    "    plt.grid(linestyle='--')\n",
    "    plt.savefig(\"workshop_conference.png\", dpi=1200, bbox_inches='tight')\n",
    "    plt.show()\n",
    "    \n",
    "    \n",
    "venue_per_year_plot(df)"
   ]
  },
  {
   "cell_type": "markdown",
   "id": "47e80aa9",
   "metadata": {},
   "source": [
    "# tasks and bias types"
   ]
  },
  {
   "cell_type": "markdown",
   "id": "f216c668",
   "metadata": {},
   "source": [
    "## get citations"
   ]
  },
  {
   "cell_type": "code",
   "execution_count": null,
   "id": "e3e640b0",
   "metadata": {},
   "outputs": [],
   "source": [
    "import string\n",
    "def filter_symbols(in_string):\n",
    "    translation_table = str.maketrans('', '', string.punctuation)\n",
    "    out_string = in_string.translate(translation_table)\n",
    "    return out_string"
   ]
  },
  {
   "cell_type": "code",
   "execution_count": null,
   "id": "0622dfdb",
   "metadata": {},
   "outputs": [],
   "source": [
    "def get_first_author(this_df):\n",
    "    this_df['author'] = this_df['author'].str.strip('{}')\n",
    "    this_df['first_author'] = this_df['author'].str.split(pat=' and').str[0]\n",
    "    this_df['first_author'] = this_df['first_author'].str.removesuffix(' ')\n",
    "    this_df['first_author'] = this_df['first_author'].apply(lambda x: filter_symbols(x))\n",
    "    this_df['first_author'] = this_df['first_author'].str.split(pat=' ').str[::]\n",
    "    \n",
    "get_first_author(df)"
   ]
  },
  {
   "cell_type": "code",
   "execution_count": null,
   "id": "c3a3f52e",
   "metadata": {
    "scrolled": true
   },
   "outputs": [],
   "source": [
    "# from https://github.com/ckreibich/scholar.py\n",
    "year_str = ''.join(str(df['year'][0]))\n",
    "author_str = ' '.join(df['first_author'][0]).lower()\n",
    "title_str = filter_symbols(df['title'][0].lower())\n",
    "%run scholar.py -c 1 --author {author_str} -t -A {title_str} --after '2022' --txt\n"
   ]
  },
  {
   "cell_type": "markdown",
   "id": "60661ff8",
   "metadata": {},
   "source": [
    "# Make and LDA"
   ]
  },
  {
   "cell_type": "code",
   "execution_count": null,
   "id": "f5d13fd5",
   "metadata": {},
   "outputs": [],
   "source": [
    "### LDA with inspiration from here: https://medium.com/analytics-vidhya/topic-modelling-using-lda-aa11ec9bec13#:~:text=Topic%20modelling%20in%20natural%20language%20processing%20is%20a%20technique%20which,important%20to%20categories%20the%20documents.\n",
    "from sklearn.feature_extraction.text import CountVectorizer\n",
    "\n",
    "def get_bow(this_df, col, range_min=1, range_max=3, mindf=0.01, maxdf=0.5):\n",
    "    \n",
    "    \"\"\"Returns the count vectorized dataframe based on the arguments\n",
    "    \n",
    "    param df(dataframe): dataframe containing the values\n",
    "    param  d(str): the column name, under which the documents are present\n",
    "    param range_min(int): smallest n of n-gram wanted\n",
    "    param range_max(int): largest n of n-gram wanted\n",
    "    param mindf(int): threshold for common words\n",
    "    param maxdf(int): threshold for rare words\n",
    "    \n",
    "    return cv(CountVectorizer): the count vectorizer\n",
    "           cv_df(dataframe): dataframe containing the bag of words\"\"\"\n",
    "    \n",
    "    vectorizer = CountVectorizer(ngram_range=(range_min, range_max), min_df=mindf, max_df=maxdf)\n",
    "    Z = vectorizer.fit_transform(this_df[col])\n",
    "    new_df = pd.DataFrame(Z.toarray(), columns = vectorizer.get_feature_names())\n",
    "    \n",
    "    return Z, new_df, vectorizer\n",
    "\n",
    "Z_df, _, cv_df = get_bow(df, 'cleaned_w_title')\n"
   ]
  },
  {
   "cell_type": "code",
   "execution_count": null,
   "id": "52499942",
   "metadata": {},
   "outputs": [],
   "source": [
    "#print(Z_df)"
   ]
  },
  {
   "cell_type": "code",
   "execution_count": null,
   "id": "53f876d3",
   "metadata": {
    "scrolled": true
   },
   "outputs": [],
   "source": [
    "# Use LDA to look for 6 topics\n",
    "from sklearn.decomposition import LatentDirichletAllocation\n",
    "\n",
    "def make_lda(this_df, Z, vectorizer, n_topics=6, n_words=20):\n",
    "    model_lda = LatentDirichletAllocation(n_components=n_topics, random_state=42)\n",
    "    model_lda.fit(Z)\n",
    "\n",
    "    feature_names = vectorizer.get_feature_names()\n",
    "\n",
    "    topic_list = []\n",
    "    for topic_idx, topic in enumerate(model_lda.components_):\n",
    "        top_n = [feature_names[i]\n",
    "                  for i in topic.argsort()\n",
    "                   [-n_words:]][::-1]\n",
    "\n",
    "        top_features = ' '.join(top_n)\n",
    "\n",
    "        topic_list.append(f\"topic_{'_'.join(top_n[:3])}\") \n",
    "\n",
    "        print(f\"Topic {topic_idx}:\\n{top_features}\")\n",
    "        print('\\n')\n",
    "\n",
    "    topic_result = model_lda.transform(Z)\n",
    "    this_df['topic']  = topic_result.argmax(axis=1)\n",
    "    \n",
    "make_lda(df, Z_df, cv_df, n_topics=3)"
   ]
  },
  {
   "cell_type": "code",
   "execution_count": null,
   "id": "0bc2aaf5",
   "metadata": {},
   "outputs": [],
   "source": [
    "def make_lda_plot(this_df):\n",
    "    # set image size\n",
    "    plt.figure(figsize=(12, 7))\n",
    "    #plt.title(\"LDA clustering on abstracts + title\", fontdict={\"fontsize\": 18})\n",
    "    # set axes names\n",
    "    plt.xlabel(\"X0\", fontdict={\"fontsize\": 16})\n",
    "    plt.ylabel(\"X1\", fontdict={\"fontsize\": 16})\n",
    "    # create scatter plot with seaborn, where hue is the class used to group the data\n",
    "    sns.scatterplot(data=this_df, x='x0', y='x1', hue='topic')\n",
    "    plt.show()\n",
    "    \n",
    "make_lda_plot(df)"
   ]
  },
  {
   "cell_type": "code",
   "execution_count": null,
   "id": "2b48a428",
   "metadata": {},
   "outputs": [],
   "source": [
    "# topic per bias\n",
    "def topic_per_bias_plot(this_df, bias_list=bias_list):\n",
    "    temp_df = pd.DataFrame()\n",
    "\n",
    "    for i in bias_list:\n",
    "        temp_df[i] = pd.crosstab(this_df[i],this_df['topic']).loc[True]\n",
    "\n",
    "    temp_df.transpose().plot(kind='bar', color=colors);\n",
    "    #plt.title('Paper per bias term by topic')\n",
    "    plt.ylabel(\"# of paper\")\n",
    "    plt.grid(linestyle='--')\n",
    "\n",
    "topic_per_bias_plot(df)"
   ]
  },
  {
   "cell_type": "code",
   "execution_count": null,
   "id": "0dcd05b6",
   "metadata": {},
   "outputs": [],
   "source": [
    "# year per topic\n",
    "def year_per_topic_plot(this_df):\n",
    "    pd.crosstab(this_df['year'],this_df['topic']).plot(kind='bar', color=colors);\n",
    "    #plt.title('Paper per year by topic', fontdict={\"fontsize\": 10})\n",
    "    plt.xlabel(\"year\", fontdict={\"fontsize\": 12})\n",
    "    plt.ylabel(\"# of paper\")\n",
    "    plt.grid(linestyle='--')\n",
    "    \n",
    "year_per_topic_plot(df)"
   ]
  },
  {
   "cell_type": "code",
   "execution_count": null,
   "id": "fd8004e7",
   "metadata": {
    "scrolled": true
   },
   "outputs": [],
   "source": [
    "# TODO\n",
    "# how do cluster correspond to topic\n",
    "df_ws = df[df['booktitle'].str.contains('Workshop', na=False)]\n",
    "df_ws.to_csv('ws_bias_paper.csv')\n",
    "df_co = df[df['booktitle'].str.contains('Conference', na=False)]\n",
    "df_co.to_csv('co_bias_paper.csv')\n",
    "\n",
    "def main(this_df, data, n_cluster=6, max_words=20, bias_list=bias_list, run_stats=True):\n",
    "    # length of dataframe\n",
    "    print(f'entries: {len(this_df.index)}')\n",
    "    \n",
    "    # create cluster & pca components & print keywords for cluster\n",
    "    cluster, this_df['cluster'], this_df['x0'], this_df['x1'] = make_pca_vecs(data, n_cluster)\n",
    "    get_top_keywords(this_df, data, cluster, max_words)\n",
    "    this_df['cluster'] = this_df['cluster'].map(cluster_map)\n",
    "    \n",
    "    # create kmeans plot\n",
    "    make_kmeans_plot(this_df)\n",
    "    #elbow_test(data)\n",
    "    \n",
    "    # do one hot encoding & create stats plots\n",
    "    if run_stats:\n",
    "        one_hot(this_df)\n",
    "        bias_per_year_plot(this_df, bias_list)\n",
    "        \n",
    "        one_hot_verb(this_df)\n",
    "        add_not_spec_verb(this_df)\n",
    "        researchtype_per_year_plot(this_df, verb_list)\n",
    "        \n",
    "        one_hot_task(this_df)\n",
    "        task_per_year_plot(this_df, task_list)\n",
    "    \n",
    "    year_per_clust_plot(this_df)\n",
    "    \n",
    "    # create lda vectorizer & perform LDA\n",
    "    Z_df, _, cv_df = get_bow(this_df, 'cleaned_w_title')\n",
    "    make_lda(this_df, Z_df, cv_df, n_topics=n_cluster)\n",
    "    make_lda_plot(df)\n",
    "    \n",
    "    # stats of LDA\n",
    "    if run_stats:\n",
    "        topic_per_bias_plot(df)\n",
    "        \n",
    "    year_per_topic_plot(df)"
   ]
  },
  {
   "cell_type": "code",
   "execution_count": null,
   "id": "956f7ffe",
   "metadata": {},
   "outputs": [],
   "source": [
    "pd.options.mode.chained_assignment = None  # default='warn'\n",
    "# create vectorizer\n",
    "vectorizer = TfidfVectorizer(sublinear_tf=True, max_df=0.2, max_features=80)"
   ]
  },
  {
   "cell_type": "code",
   "execution_count": null,
   "id": "8bbee66a",
   "metadata": {},
   "outputs": [],
   "source": [
    "# ONLY LOOK AT WORKSHOP PAPERS\n",
    "data1 = vectorizer.fit_transform(df_ws['cleaned_w_title'])\n",
    "main(df_ws, data1, n_cluster=3)"
   ]
  },
  {
   "cell_type": "code",
   "execution_count": null,
   "id": "ec530744",
   "metadata": {},
   "outputs": [],
   "source": [
    "# ONLY LOOK AT CONFERENCE PAPERS\n",
    "data2 = vectorizer.fit_transform(df_co['cleaned_w_title'])\n",
    "main(df_co, data2, n_cluster=3)"
   ]
  },
  {
   "cell_type": "code",
   "execution_count": null,
   "id": "6a3b74dd",
   "metadata": {},
   "outputs": [],
   "source": [
    "# ONLY LOOK AT PAPERS CONTAINING \"SOCIAL\"\n",
    "df_social = df[df['abstract'].str.contains('social', na=False)]\n",
    "data_social = vectorizer.fit_transform(df_social['cleaned_w_title'])\n",
    "main(df_social, data_social, n_cluster=5, bias_list=bias_list)"
   ]
  },
  {
   "cell_type": "code",
   "execution_count": null,
   "id": "b8330feb",
   "metadata": {},
   "outputs": [],
   "source": [
    "# ONLY LOOK AT PAPERS THAT DON'T SPECIFY A BIAS - 3 CLUSTER\n",
    "df_unspec = df[df['not_specified'] == True]\n",
    "data_unspec = vectorizer.fit_transform(df_unspec['cleaned_w_title'])\n",
    "main(df_unspec, data_unspec, n_cluster=3, run_stats = False)"
   ]
  },
  {
   "cell_type": "code",
   "execution_count": null,
   "id": "d43d0896",
   "metadata": {},
   "outputs": [],
   "source": [
    "# ONLY LOOK AT PAPERS THAT DON'T SPECIFY A BIAS - 2 CLUSTER\n",
    "main(df_unspec, data_unspec, n_cluster=2, run_stats = False)"
   ]
  },
  {
   "cell_type": "code",
   "execution_count": null,
   "id": "14db5e5e",
   "metadata": {},
   "outputs": [],
   "source": [
    "# ONLY LOOK AT PAPERS THAT DON'T SPECIFY A BIAS - 6 CLUSTER\n",
    "main(df_unspec, data_unspec, n_cluster=6, run_stats = False)"
   ]
  },
  {
   "cell_type": "code",
   "execution_count": null,
   "id": "f76d2313",
   "metadata": {},
   "outputs": [],
   "source": [
    "df.head()"
   ]
  },
  {
   "cell_type": "code",
   "execution_count": null,
   "id": "bdde002b",
   "metadata": {
    "scrolled": true
   },
   "outputs": [],
   "source": [
    "print(df.loc[idx, 'title'].split()[0].lower())"
   ]
  },
  {
   "cell_type": "code",
   "execution_count": null,
   "id": "e53c2bdb",
   "metadata": {},
   "outputs": [],
   "source": [
    "research_list = ['Analysis', 'Debiasing']"
   ]
  },
  {
   "cell_type": "code",
   "execution_count": null,
   "id": "23f40e74",
   "metadata": {},
   "outputs": [],
   "source": [
    "def get_biastype(idx):\n",
    "    biastype = []\n",
    "    for i, val in enumerate(bias_list):\n",
    "        if df.loc[idx, val] == True:\n",
    "            biastype.append(bias_label_list[i])\n",
    "            \n",
    "    if len(biastype) == 0:\n",
    "        biastype.append('Not listed')\n",
    "    \n",
    "    return ', '.join(biastype)\n",
    "\n",
    "def get_research_type(idx):\n",
    "    researchtype = []\n",
    "    for i, val in enumerate(research_list):\n",
    "        if df.loc[idx, val.lower()] == True:\n",
    "            researchtype.append(research_list[i])\n",
    "            \n",
    "    return ', '.join(researchtype)\n",
    "\n",
    "def get_task_type(idx):\n",
    "    tasktype = []\n",
    "    for i, val in enumerate(task_list):\n",
    "        if df.loc[idx, val[1]] == True:\n",
    "            tasktype.append(over_general_task_label_list[i])\n",
    "            \n",
    "    len_task = len(task_list)\n",
    "    for i, val in enumerate(general_list):\n",
    "        if df.loc[idx, val] == True:\n",
    "            tasktype.append(over_general_task_label_list[i+len_task])\n",
    "             \n",
    "    return ', '.join(tasktype)"
   ]
  },
  {
   "cell_type": "code",
   "execution_count": null,
   "id": "535ea9ac",
   "metadata": {},
   "outputs": [],
   "source": [
    "print(task_list)\n",
    "print(general_list)\n",
    "print(over_general_task_label_list)"
   ]
  },
  {
   "cell_type": "code",
   "execution_count": null,
   "id": "54f851a4",
   "metadata": {},
   "outputs": [],
   "source": [
    "def print_paper_list(this_df):\n",
    "    for idx in range(len(this_df)):\n",
    "        name = this_df.loc[idx, 'first_author'][0].lower()\n",
    "        title = this_df.loc[idx, 'title'].split()[0].lower()\n",
    "        year = this_df.loc[idx, 'year']\n",
    "        \n",
    "        biastype = get_biastype(idx)\n",
    "        researchtype = get_research_type(idx)\n",
    "        tasktype = get_task_type(idx)\n",
    "        \n",
    "        line = f'\\\\citet{{{name}_{title}_{year}}} & {year} & {biastype} & {researchtype} & {tasktype} \\\\\\\\'\n",
    "        print(line)\n",
    "\n",
    "print_paper_list(df)"
   ]
  },
  {
   "cell_type": "code",
   "execution_count": null,
   "id": "c9ab3733",
   "metadata": {},
   "outputs": [],
   "source": [
    "print(df.iloc[272])"
   ]
  },
  {
   "cell_type": "code",
   "execution_count": null,
   "id": "d087b169",
   "metadata": {},
   "outputs": [],
   "source": []
  },
  {
   "cell_type": "code",
   "execution_count": null,
   "id": "7fe56453",
   "metadata": {},
   "outputs": [],
   "source": []
  },
  {
   "cell_type": "code",
   "execution_count": null,
   "id": "4102ed72",
   "metadata": {},
   "outputs": [],
   "source": []
  }
 ],
 "metadata": {
  "kernelspec": {
   "display_name": "Python 3 (ipykernel)",
   "language": "python",
   "name": "python3"
  },
  "language_info": {
   "codemirror_mode": {
    "name": "ipython",
    "version": 3
   },
   "file_extension": ".py",
   "mimetype": "text/x-python",
   "name": "python",
   "nbconvert_exporter": "python",
   "pygments_lexer": "ipython3",
   "version": "3.9.13"
  }
 },
 "nbformat": 4,
 "nbformat_minor": 5
}
