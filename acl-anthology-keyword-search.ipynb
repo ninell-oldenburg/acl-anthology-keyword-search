{
 "cells": [
  {
   "cell_type": "code",
   "execution_count": 2,
   "id": "8b51b215",
   "metadata": {},
   "outputs": [],
   "source": [
    "import requests\n",
    "import gzip\n",
    "import shutil\n",
    "import os\n",
    "\n",
    "# download anthology file\n",
    "url = \"https://aclanthology.org/anthology+abstracts.bib.gz\"\n",
    "r = requests.get(url)\n",
    "open('anthology+abstracts.bib.gz', 'wb').write(r.content)\n",
    "\n",
    "# open and unpack gz\n",
    "with gzip.open('anthology+abstracts.bib.gz', 'rb') as f_in:\n",
    "    with open('anthology+abstracts.bib', 'wb') as f_out:\n",
    "        shutil.copyfileobj(f_in, f_out)\n",
    "        \n",
    "os.remove(\"anthology+abstracts.bib.gz\")"
   ]
  },
  {
   "cell_type": "code",
   "execution_count": 3,
   "id": "efa8ce91",
   "metadata": {},
   "outputs": [
    {
     "data": {
      "text/plain": [
       "'anthology+abstracts.bib'"
      ]
     },
     "execution_count": 3,
     "metadata": {},
     "output_type": "execute_result"
    }
   ],
   "source": [
    "\"\"\"\n",
    "from tempfile import mkstemp\n",
    "from shutil import move, copymode\n",
    "from os import fdopen, remove\n",
    "\n",
    "\n",
    "filepath = 'anthology+abstracts.bib'\n",
    "\n",
    "fd, abspath = mkstemp()\n",
    "with fdopen(fd,'w') as repl:\n",
    "    with open(filepath,'r') as bibtex_file:\n",
    "        for line in bibtex_file:\n",
    "            if \"month = \" in line:\n",
    "                old_cont = line[12:line.find(',')]\n",
    "                month = line[12:15]\n",
    "                new_cont = '\"{}\"'.format(month)\n",
    "                #line_quot = 'month = \"{}\"'.format(line[12:15])\n",
    "                repl.write(line.replace(old_cont, new_cont))\n",
    "            else:\n",
    "                repl.write(line)\n",
    "            \n",
    "copymode(filepath, abspath)\n",
    "remove(filepath)\n",
    "move(abspath, filepath)\n",
    "\"\"\""
   ]
  },
  {
   "cell_type": "code",
   "execution_count": 4,
   "id": "c0790d1d",
   "metadata": {},
   "outputs": [],
   "source": [
    "# watch out: computes very long\n",
    "import bibtexparser\n",
    "\n",
    "# parse bib file, output: list of dicts\n",
    "with open('anthology+abstracts.bib') as bibtex_file:   \n",
    "    bib_database = bibtexparser.bparser.BibTexParser(common_strings=True).parse_file(bibtex_file)\n"
   ]
  },
  {
   "cell_type": "code",
   "execution_count": 6,
   "id": "18fa4c7c",
   "metadata": {},
   "outputs": [],
   "source": [
    "import pandas as pd\n",
    "\n",
    "# define keywords & words to exclude\n",
    "keywords = ['fair', 'fairness', 'race', 'gender', 'bias', 'biases', 'protected attribute', 'protected categor']\n",
    "excludes = ['hate']\n",
    "df = pd.DataFrame()\n",
    "\n",
    "for paper in bib_database.entries:\n",
    "    if 'abstract' in paper.keys():\n",
    "        if any(keyword in paper['abstract'] for keyword in keywords):\n",
    "            if not any(exclude in paper['abstract'] for exclude in excludes):\n",
    "                temp_row = {}\n",
    "\n",
    "                # select only select papers from 2016 on\n",
    "                if 'year' in paper.keys() and int(paper['year']) >= 2016:\n",
    "\n",
    "                    for cat in paper.keys():\n",
    "                        temp_row[cat] = paper[cat]\n",
    "\n",
    "                    df = df.append(temp_row, ignore_index=True)\n",
    "        \n",
    "df.to_csv('bias_paper.csv')"
   ]
  },
  {
   "cell_type": "code",
   "execution_count": null,
   "id": "0e664efc",
   "metadata": {},
   "outputs": [],
   "source": []
  }
 ],
 "metadata": {
  "kernelspec": {
   "display_name": "Python 3",
   "language": "python",
   "name": "python3"
  }
 },
 "nbformat": 4,
 "nbformat_minor": 5
}
