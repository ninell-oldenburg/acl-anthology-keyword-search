{
 "cells": [
  {
   "cell_type": "code",
   "execution_count": 1,
   "id": "8b51b215",
   "metadata": {},
   "outputs": [],
   "source": [
    "import requests\n",
    "import gzip\n",
    "import shutil\n",
    "import os\n",
    "\n",
    "\n",
    "url = \"https://aclanthology.org/anthology+abstracts.bib.gz\"\n",
    "r = requests.get(url)\n",
    "open('anthology+abstracts.bib.gz', 'wb').write(r.content)\n",
    "\n",
    "with gzip.open('anthology+abstracts.bib.gz', 'rb') as f_in:\n",
    "    with open('anthology+abstracts.bib', 'wb') as f_out:\n",
    "        shutil.copyfileobj(f_in, f_out)\n",
    "        \n",
    "os.remove(\"anthology+abstracts.bib.gz\")"
   ]
  },
  {
   "cell_type": "code",
   "execution_count": null,
   "id": "efa8ce91",
   "metadata": {},
   "outputs": [],
   "source": [
    "from tempfile import mkstemp\n",
    "from shutil import move, copymode\n",
    "from os import fdopen, remove\n",
    "\n",
    "filepath = 'anthology+abstracts.bib'\n",
    "\n",
    "fd, abspath = mkstemp()\n",
    "with fdopen(fd,'w') as repl:\n",
    "    with open(filepath,'r') as bibtex_file:\n",
    "        for line in bibtex_file:\n",
    "            if \"month = \" in line:\n",
    "                old_cont = line[12:line.find(',')]\n",
    "                month = line[12:15]\n",
    "                new_cont = '\"{}\"'.format(month)\n",
    "                #line_quot = 'month = \"{}\"'.format(line[12:15])\n",
    "                repl.write(line.replace(old_cont, new_cont))\n",
    "            else:\n",
    "                repl.write(line)\n",
    "            \n",
    "copymode(filepath, abspath)\n",
    "remove(filepath)\n",
    "move(abspath, filepath)"
   ]
  },
  {
   "cell_type": "code",
   "execution_count": 2,
   "id": "c0790d1d",
   "metadata": {},
   "outputs": [],
   "source": [
    "import bibtexparser\n",
    "\n",
    "with open('anthology+abstracts.bib') as bibtex_file:   \n",
    "    bib_database = bibtexparser.bparser.BibTexParser(common_strings=True).parse_file(bibtex_file)\n"
   ]
  },
  {
   "cell_type": "code",
   "execution_count": 27,
   "id": "18fa4c7c",
   "metadata": {},
   "outputs": [],
   "source": [
    "import pandas as pd\n",
    "\n",
    "keywords = ['fair', 'fairness', 'race', 'gender', 'bias', 'biases']\n",
    "df = pd.DataFrame()\n",
    "#df = pd.DataFrame(columns=['title', 'author', 'booktitle', 'month', 'year', 'publisher', 'url', 'doi'])\n",
    "\n",
    "for paper in bib_database.entries:\n",
    "    if 'abstract' in paper.keys():\n",
    "        if any(keyword in paper['abstract'] for keyword in keywords):\n",
    "            # only select paper from 2016 on\n",
    "            if 'year' in paper.keys() and int(paper['year']) >= 2016:\n",
    "            \n",
    "                for cat in paper.keys():\n",
    "                    temp_row[cat] = paper[cat]\n",
    "\n",
    "                df = df.append(temp_row, ignore_index=True)\n",
    "        \n",
    "df.to_csv('bias_paper.csv')"
   ]
  },
  {
   "cell_type": "code",
   "execution_count": null,
   "id": "0e664efc",
   "metadata": {},
   "outputs": [],
   "source": []
  }
 ],
 "metadata": {
  "kernelspec": {
   "display_name": "Python 3",
   "language": "python",
   "name": "python3"
  },
  "language_info": {
   "codemirror_mode": {
    "name": "ipython",
    "version": 3
   },
   "file_extension": ".py",
   "mimetype": "text/x-python",
   "name": "python",
   "nbconvert_exporter": "python",
   "pygments_lexer": "ipython3",
   "version": "3.8.8"
  }
 },
 "nbformat": 4,
 "nbformat_minor": 5
}
